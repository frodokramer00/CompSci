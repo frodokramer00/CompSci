{
 "cells": [
  {
   "cell_type": "code",
   "execution_count": 1,
   "metadata": {},
   "outputs": [],
   "source": [
    "from bs4 import BeautifulSoup\n",
    "import requests\n",
    "import pandas as pd\n",
    "import networkx as nx\n",
    "import json\n",
    "from networkx.readwrite import json_graph\n",
    "from itertools import combinations\n",
    "from collections import defaultdict\n",
    "import time\n",
    "from tqdm import tqdm"
   ]
  },
  {
   "cell_type": "markdown",
   "metadata": {},
   "source": [
    "https://github.com/frodokramer00/CompSci.git"
   ]
  },
  {
   "cell_type": "code",
   "execution_count": 2,
   "metadata": {},
   "outputs": [],
   "source": [
    "LINK = \"https://ic2s2-2023.org/program\"\n",
    "r = requests.get(LINK)\n",
    "soup = BeautifulSoup(r.content)\n"
   ]
  },
  {
   "cell_type": "code",
   "execution_count": 7,
   "metadata": {},
   "outputs": [],
   "source": [
    "table = soup.find(\"body\",{\"class\":\"no-sidebar\"})\n",
    "nam = table.find_all('i')\n",
    "\n",
    "ROW = []\n",
    "for i in nam:\n",
    "    \n",
    "    items = i.text.replace(\"<u>\", \"\").replace(\"Chair:\", \"\").split(\",\")\n",
    "    \n",
    "    for item in items:\n",
    "        ROW.append(item)\n",
    "    "
   ]
  },
  {
   "cell_type": "code",
   "execution_count": 8,
   "metadata": {},
   "outputs": [
    {
     "data": {
      "text/html": [
       "<div>\n",
       "<style scoped>\n",
       "    .dataframe tbody tr th:only-of-type {\n",
       "        vertical-align: middle;\n",
       "    }\n",
       "\n",
       "    .dataframe tbody tr th {\n",
       "        vertical-align: top;\n",
       "    }\n",
       "\n",
       "    .dataframe thead th {\n",
       "        text-align: right;\n",
       "    }\n",
       "</style>\n",
       "<table border=\"1\" class=\"dataframe\">\n",
       "  <thead>\n",
       "    <tr style=\"text-align: right;\">\n",
       "      <th></th>\n",
       "      <th>author</th>\n",
       "    </tr>\n",
       "  </thead>\n",
       "  <tbody>\n",
       "    <tr>\n",
       "      <th>1403</th>\n",
       "      <td>Bokányi</td>\n",
       "    </tr>\n",
       "    <tr>\n",
       "      <th>536</th>\n",
       "      <td>Aaron Clauset</td>\n",
       "    </tr>\n",
       "    <tr>\n",
       "      <th>178</th>\n",
       "      <td>Aaron J. Schwartz</td>\n",
       "    </tr>\n",
       "    <tr>\n",
       "      <th>704</th>\n",
       "      <td>Aaron Schein</td>\n",
       "    </tr>\n",
       "    <tr>\n",
       "      <th>625</th>\n",
       "      <td>Aaron Smith</td>\n",
       "    </tr>\n",
       "    <tr>\n",
       "      <th>...</th>\n",
       "      <td>...</td>\n",
       "    </tr>\n",
       "    <tr>\n",
       "      <th>139</th>\n",
       "      <td>Zhuangyuan Fan</td>\n",
       "    </tr>\n",
       "    <tr>\n",
       "      <th>47</th>\n",
       "      <td>Ziv Epstein</td>\n",
       "    </tr>\n",
       "    <tr>\n",
       "      <th>1052</th>\n",
       "      <td>Ziwen Chen</td>\n",
       "    </tr>\n",
       "    <tr>\n",
       "      <th>473</th>\n",
       "      <td>Zoltan Kmetty</td>\n",
       "    </tr>\n",
       "    <tr>\n",
       "      <th>1854</th>\n",
       "      <td>Zsófia Rakovics</td>\n",
       "    </tr>\n",
       "  </tbody>\n",
       "</table>\n",
       "<p>1594 rows × 1 columns</p>\n",
       "</div>"
      ],
      "text/plain": [
       "                  author\n",
       "1403             Bokányi\n",
       "536        Aaron Clauset\n",
       "178    Aaron J. Schwartz\n",
       "704         Aaron Schein\n",
       "625          Aaron Smith\n",
       "...                  ...\n",
       "139       Zhuangyuan Fan\n",
       "47           Ziv Epstein\n",
       "1052          Ziwen Chen\n",
       "473        Zoltan Kmetty\n",
       "1854     Zsófia Rakovics\n",
       "\n",
       "[1594 rows x 1 columns]"
      ]
     },
     "execution_count": 8,
     "metadata": {},
     "output_type": "execute_result"
    }
   ],
   "source": [
    "Final_table = pd.DataFrame(ROW, columns=[\"author\"]).drop_duplicates().sort_values('author')\n",
    "Final_table"
   ]
  },
  {
   "cell_type": "markdown",
   "metadata": {},
   "source": [
    "We inspected the webpage and found where the names of the authors were stored. We used beatiful soup to extract the content that matched with our filter.\n",
    "The conted was cleaned with filters splitting on commas, and removing \"< u >\" and \"Chair\". The names were appended to a list, and dropped if it was a duplicate. The list was then sorted, and the final amount of unique researchers we got was 1593."
   ]
  },
  {
   "cell_type": "markdown",
   "metadata": {},
   "source": [
    "# part 2"
   ]
  },
  {
   "cell_type": "markdown",
   "metadata": {},
   "source": [
    "**Pros and Cons of the Data Types**  \n",
    "According to the video, Centola’s experiment used custom-made data, which allowed precise control over experimental conditions. This enabled the isolation of key variables and a clear demonstration of causal mechanisms. However, the video points out that such data may lack real-world complexity and external validity. In contrast, Nicolaides’s ready-made data reflects natural social interactions, enhancing ecological validity and generalizability. Yet, the video notes that this approach sacrifices control, potentially introducing confounds and making causal claims less clear.\n",
    "\n",
    "**Influence on Interpretation of Results**  \n",
    "The video emphasizes that Centola’s controlled, custom-made data supports confident causal interpretations within the experimental framework, though its artificial setting might limit applicability to real-life contexts. Meanwhile, Nicolaides’s ready-made data, while offering insights into genuine social behaviors, requires cautious interpretation since the presence of uncontrolled variables can blur the direction of causality."
   ]
  },
  {
   "cell_type": "markdown",
   "metadata": {},
   "source": [
    "# Part 3"
   ]
  },
  {
   "cell_type": "code",
   "execution_count": null,
   "metadata": {},
   "outputs": [],
   "source": [
    "# social_sciences = {\"Sociology\", \"Psychology\", \"Economics\", \"Political Science\"}\n",
    "# quant_disciplines = {\"Mathematics\", \"Physics\", \"Computer Science\"}\n",
    "\n",
    "\n",
    "# papers_list = []\n",
    "# abstracts_list = []\n",
    "\n",
    "\n",
    "# for author_name in tqdm(Final_table['author']):\n",
    "    \n",
    "#     #print(f'----{author_name}----')\n",
    "#     search_url = \"https://api.openalex.org/authors\"\n",
    "#     search_params = {'search': author_name}\n",
    "#     author_response = requests.get(search_url, params=search_params)\n",
    "#     author_data = author_response.json()\n",
    "    \n",
    "    \n",
    "    \n",
    "#     if not author_data.get('results'):\n",
    "#         ##print(f\"No results found for {author_name}\")\n",
    "#         continue\n",
    "\n",
    "#     author = author_data['results'][0]\n",
    "    \n",
    "   \n",
    "#     works_count = author.get('works_count', 0)\n",
    "#     if works_count < 5 or works_count > 5000:\n",
    "#         #print(f\"Skipping {author_name} due to works_count: {works_count}\")\n",
    "#         continue\n",
    "        \n",
    "#     author_id = author['id']\n",
    "#     #print(f\"Processing works for author {author_name}: {author_id}\")\n",
    "    \n",
    "    \n",
    "#     works_url = \"https://api.openalex.org/works\"\n",
    "    \n",
    "#     cursor = \"*\"\n",
    "    \n",
    "#     while True:\n",
    "        \n",
    "#         filter_str = f\"authorships.author.id:{author_id},cited_by_count:>10\"\n",
    "#         params = {\n",
    "#             'filter': filter_str,\n",
    "#             'per_page': 200,\n",
    "#             'cursor': cursor\n",
    "#         }\n",
    "        \n",
    "#         works_response = requests.get(works_url, params=params)\n",
    "#         works_data = works_response.json()\n",
    "        \n",
    "\n",
    "#         for work in works_data.get('results', []):\n",
    "#             authorships = work.get('authorships', [])\n",
    "#             if len(authorships) >= 10:\n",
    "#                 continue\n",
    "            \n",
    "\n",
    "#             concepts = work.get('concepts', [])\n",
    "#             has_social = any(concept.get('level') == 0 and \n",
    "#                              concept.get('display_name') in social_sciences \n",
    "#                              for concept in concepts)\n",
    "#             has_quant = any(concept.get('level') == 0 and \n",
    "#                             concept.get('display_name') in quant_disciplines \n",
    "#                             for concept in concepts)\n",
    "#             if not (has_social and has_quant):\n",
    "#                 continue\n",
    "\n",
    "\n",
    "#             work_id = work.get('id')\n",
    "#             pub_year = work.get('publication_year')\n",
    "#             cited_count = work.get('cited_by_count')\n",
    "           \n",
    "#             author_ids = [auth['author']['id'] for auth in authorships]\n",
    "#             title = work.get('title')\n",
    "#             abstract_inverted_index = work.get('abstract_inverted_index')\n",
    "            \n",
    "           \n",
    "#             papers_list.append({\n",
    "#                 'id': work_id,\n",
    "#                 'publication_year': pub_year,\n",
    "#                 'cited_by_count': cited_count,\n",
    "#                 'author_ids': author_ids\n",
    "#             })\n",
    "            \n",
    "\n",
    "#             abstracts_list.append({\n",
    "#                 'id': work_id,\n",
    "#                 'title': title,\n",
    "#                 'abstract_inverted_index': abstract_inverted_index\n",
    "#             })\n",
    "        \n",
    "\n",
    "#         meta = works_data.get('meta', {})\n",
    "#         next_cursor = meta.get('next_cursor')\n",
    "#         if next_cursor and next_cursor != cursor:\n",
    "#             cursor = next_cursor\n",
    "\n",
    "#             time.sleep(0.5)\n",
    "#         else:\n",
    "#             break\n",
    "\n",
    "\n",
    "# df_papers = pd.DataFrame(papers_list)\n",
    "# df_abstracts = pd.DataFrame(abstracts_list)\n",
    "\n",
    "\n",
    "# df_papers.to_csv(\"IC2S2_papers.csv\", index=False)\n",
    "# df_abstracts.to_csv(\"IC2S2_abstracts.csv\", index=False)\n",
    "\n",
    "# #print(\"Data retrieval and storage complete.\")"
   ]
  },
  {
   "cell_type": "code",
   "execution_count": 2,
   "metadata": {},
   "outputs": [
    {
     "data": {
      "application/vnd.microsoft.datawrangler.viewer.v0+json": {
       "columns": [
        {
         "name": "index",
         "rawType": "int64",
         "type": "integer"
        },
        {
         "name": "id",
         "rawType": "object",
         "type": "string"
        },
        {
         "name": "title",
         "rawType": "object",
         "type": "string"
        },
        {
         "name": "abstract_inverted_index",
         "rawType": "object",
         "type": "string"
        }
       ],
       "conversionMethod": "pd.DataFrame",
       "ref": "90287a11-5c14-46e2-be0b-488573c6ccf7",
       "rows": [
        [
         "0",
         "https://openalex.org/W3016360720",
         "Understanding Inequalities in Ride-Hailing Services Through Simulations",
         "{'Despite': [0], 'the': [1, 16, 42, 52, 81, 109, 112, 115, 124, 139, 147], 'potential': [2], 'of': [3, 24, 46, 54, 83, 104, 111, 150], 'online': [4], 'sharing': [5], 'economy': [6], 'platforms': [7], 'such': [8], 'as': [9], 'Uber,': [10], 'Lyft,': [11], 'or': [12], 'Foodora': [13], 'to': [14, 62, 79, 153, 164], 'democratize': [15], 'labor': [17], 'market,': [18], 'these': [19, 47, 179], 'services': [20], 'are': [21], 'often': [22, 159], 'accused': [23], 'fostering': [25], 'unfair': [26], 'working': [27], 'conditions': [28, 101], 'and': [29, 39, 44, 66, 76, 106, 114, 187], 'low': [30], 'wages.': [31], 'These': [32], 'problems': [33], 'have': [34], 'been': [35], 'recognized': [36], 'by': [37, 170], 'researchers': [38], 'regulators': [40], 'but': [41], 'size': [43], 'complexity': [45], 'socio-technical': [48], 'systems,': [49, 178], 'combined': [50], 'with': [51, 120, 126], 'lack': [53], 'transparency': [55], 'about': [56, 102, 173], 'algorithmic': [57, 77, 177], 'practices,': [58], 'makes': [59], 'it': [60], 'difficult': [61], 'understand': [63], 'system': [64, 140, 157], 'dynamics': [65], 'large-scale': [67], 'behavior.': [68], 'This': [69], 'paper': [70], 'combines': [71], 'approaches': [72], 'from': [73, 129], 'complex': [74], 'systems': [75], 'fairness': [78], 'investigate': [80], 'effect': [82], 'algorithm': [84, 116], 'design': [85], 'decisions': [86], 'on': [87], 'wage': [88, 189], 'inequality': [89], 'in': [90, 138, 146, 176, 185], 'ride-hailing': [91], 'markets.': [92], 'We': [93, 122], 'first': [94], 'present': [95], 'a': [96, 154], 'computational': [97], 'model': [98, 125], 'that': [99, 117, 135], 'includes': [100], 'locations': [103], 'drivers': [105], 'passengers,': [107], 'traffic,': [108], 'layout': [110], 'city,': [113], 'matches': [118], 'requests': [119], 'drivers.': [121, 167], 'calibrate': [123], 'parameters': [127, 141], 'derived': [128], 'empirical': [130], 'data.': [131], 'Our': [132], 'simulations': [133], 'show': [134], 'small': [136], 'changes': [137], 'can': [142, 183], 'cause': [143], 'large': [144], 'deviations': [145], 'income': [148, 181], 'distributions': [149], 'drivers,': [151], 'leading': [152], 'highly': [155], 'unpredictable': [156], 'which': [158], 'distributes': [160], 'vastly': [161], 'different': [162], 'incomes': [163], 'identically': [165], 'performing': [166], 'As': [168], 'suggested': [169], 'recent': [171], 'studies': [172], 'feedback': [174], 'loops': [175], 'initial': [180], 'differences': [182], 'result': [184], 'enforced': [186], 'long-term': [188], 'gaps.': [190]}"
        ],
        [
         "1",
         "https://openalex.org/W3098339481",
         "The role of geography in the complex diffusion of innovations",
         "{'Abstract': [0], 'The': [1, 157], 'urban–rural': [2], 'divide': [3], 'is': [4, 160], 'increasing': [5], 'in': [6, 60, 70, 118, 145, 154, 293], 'modern': [7], 'societies': [8], 'calling': [9], 'for': [10, 249], 'geographical': [11, 273], 'extensions': [12], 'of': [13, 19, 37, 53, 90, 99, 104, 134, 142, 151, 180, 197, 208, 225, 245, 287], 'social': [14, 26, 71, 226], 'influence': [15, 285], 'modelling.': [16], 'Improved': [17], 'understanding': [18], 'innovation': [20, 280], 'diffusion': [21, 144, 153, 165], 'across': [22], 'locations': [23], 'and': [24, 41, 62, 121, 211, 282], 'through': [25], 'connections': [27, 227], 'can': [28, 192], 'provide': [29], 'us': [30, 169, 254], 'with': [31, 176], 'new': [32], 'insights': [33], 'into': [34], 'the': [35, 49, 67, 97, 137, 149, 163, 172, 181, 185, 194, 205, 223, 233, 237, 242, 250, 257, 279], 'spread': [36, 135], 'information,': [38], 'technological': [39], 'progress': [40], 'economic': [42], 'development.': [43], 'In': [44], 'this': [45], 'work,': [46], 'we': [47, 270], 'analyze': [48], 'spatial': [50, 68], 'adoption': [51, 69, 117, 219, 267, 288], 'dynamics': [52], 'iWiW,': [54], 'an': [55, 177], 'Online': [56], 'Social': [57], 'Network': [58], '(OSN)': [59], 'Hungary': [61], 'uncover': [63], 'empirical': [64, 186], 'features': [65, 274], 'about': [66], 'networks.': [72], 'During': [73], 'its': [74], 'entire': [75], 'life': [76], 'cycle': [77], 'from': [78, 278], '2002': [79], 'to': [80, 85, 170, 203, 241, 255], '2012,': [81], 'iWiW': [82], 'reached': [83], 'up': [84], '300': [86], 'million': [87, 92], 'friendship': [88], 'ties': [89], '3': [91], 'users.': [93], 'We': [94, 127, 214], 'find': [95], 'that': [96, 111, 167, 217, 228, 272], 'number': [98], 'adopters': [100], 'as': [101, 276], 'a': [102, 108, 113, 122, 130, 230], 'function': [103], 'town': [105, 283], 'population': [106], 'follows': [107], 'scaling': [109, 210, 244], 'law': [110], 'reveals': [112], 'strongly': [114], 'concentrated': [115, 124], 'early': [116, 146, 246], 'large': [119], 'towns': [120], 'less': [123], 'late': [125, 155], 'adoption.': [126], 'also': [128], 'discover': [129], 'strengthening': [131], 'distance': [132, 212, 277], 'decay': [133], 'over': [136], 'life-cycle': [138], 'indicating': [139], 'high': [140], 'fraction': [141, 224], 'distant': [143], 'stages': [147], 'but': [148], 'dominance': [150], 'local': [152, 261, 266, 291], 'stages.': [156], 'spreading': [158], 'process': [159], 'modelled': [161], 'within': [162], 'Bass': [164], 'framework': [166], 'enables': [168, 253], 'compare': [171], 'differential': [173], 'equation': [174], 'version': [175, 179], 'agent-based': [178], 'model': [182, 190, 239, 295], 'run': [183], 'on': [184, 264], 'network.': [187], 'Although': [188], 'both': [189], 'versions': [191], 'capture': [193], 'macro': [195], 'trend': [196], 'adoption,': [198], 'they': [199], 'have': [200], 'limited': [201], 'capacity': [202], 'describe': [204], 'observed': [206], 'trends': [207], 'urban': [209, 243], 'decay.': [213], 'find,': [215], 'however': [216], 'incorporating': [218], 'thresholds,': [220], 'defined': [221], 'by': [222, 260], 'adopt': [229], 'technology': [231], 'before': [232], 'individual': [234], 'adopts,': [235], 'improves': [236], 'network': [238, 262], 'fit': [240], 'adopters.': [247], 'Controlling': [248], 'threshold': [251], 'distribution': [252], 'eliminate': [256], 'bias': [258], 'induced': [259], 'structure': [263], 'predicting': [265], 'peaks.': [268], 'Finally,': [269], 'show': [271], 'such': [275], 'origin': [281], 'size': [284], 'prediction': [286], 'peak': [289], 'at': [290], 'scales': [292], 'all': [294], 'specifications.': [296]}"
        ],
        [
         "2",
         "https://openalex.org/W2606124137",
         "Universal scaling laws in metro area election results",
         "{'We': [0], 'explain': [1], 'the': [2, 19, 25, 30, 48, 56, 59, 63, 68, 75, 115, 118], 'anomaly': [3], 'of': [4, 15, 29, 47, 62, 70, 79, 87, 117], 'election': [5], 'results': [6], 'between': [7], 'large': [8], 'cities': [9], 'and': [10, 23, 38, 45, 54, 103, 120], 'rural': [11], 'areas': [12], 'in': [13, 18, 24, 90, 97], 'terms': [14], 'urban': [16, 80], 'scaling': [17, 33, 53], '1948-2016': [20], 'US': [21], 'elections': [22], '2016': [26], 'EU': [27], 'referendum': [28], 'UK.': [31], 'The': [32, 105], 'curves': [34], 'are': [35], 'all': [36], 'universal': [37], 'depend': [39], 'on': [40, 74], 'a': [41, 84], 'single': [42], 'parameter': [43], 'only,': [44], 'one': [46], 'parties': [49], 'always': [50], 'shows': [51], 'superlinear': [52], 'drives': [55], 'process,': [57], 'while': [58], 'sublinear': [60], 'exponent': [61], 'other': [64], 'party': [65], 'is': [66], 'merely': [67], 'consequence': [69], 'probability': [71], 'conservation.': [72], 'Based': [73], 'recently': [76], 'developed': [77], 'model': [78, 86, 106], 'scaling,': [81], 'we': [82, 92], 'give': [83], 'microscopic': [85], 'voter': [88], 'behavior': [89], 'which': [91], 'replace': [93], 'diversity': [94, 102], 'characterizing': [95], 'humans': [96], 'creative': [98], 'aspects': [99], 'with': [100], 'social': [101], 'tolerance.': [104], 'can': [107], 'also': [108], 'predict': [109], 'new': [110], 'political': [111], 'developments': [112], 'such': [113], 'as': [114], 'fragmentation': [116], 'left': [119], \"'the\": [121], 'immigration': [122], \"paradox'.\": [123]}"
        ],
        [
         "3",
         "https://openalex.org/W3103187161",
         "Prediction of employment and unemployment rates from Twitter daily rhythms in the US",
         "{'By': [0], 'modeling': [1], 'macro-economical': [2], 'indicators': [3], 'using': [4], 'digital': [5, 170], 'traces': [6], 'of': [7, 36, 43, 72, 83, 90, 128, 132, 159, 168], 'human': [8], 'activities': [9], 'on': [10, 49, 156, 165, 174], 'mobile': [11], 'or': [12, 27, 126], 'social': [13, 52], 'networks,': [14], 'we': [15, 58], 'can': [16, 119], 'provide': [17, 137], 'important': [18], 'insights': [19], 'to': [20, 122], 'processes': [21, 145], 'previously': [22], 'assessed': [23], 'via': [24], 'paper-based': [25], 'surveys': [26], 'polls': [28], 'only.': [29], 'We': [30], 'collected': [31], 'aggregated': [32], 'workday': [33], 'activity': [34, 77, 117], 'timelines': [35, 78], 'US': [37], 'counties': [38], 'from': [39], 'the': [40, 50, 69, 76, 114, 144, 157, 166, 169], 'normalized': [41], 'number': [42, 158], 'messages': [44], 'sent': [45], 'in': [46, 68], 'each': [47, 97], 'hour': [48], 'online': [51], 'network': [53], 'Twitter.': [54], 'In': [55], 'this': [56], 'paper,': [57], 'show': [59], 'how': [60], 'county': [61], 'employment': [62, 103], 'and': [63, 107], 'unemployment': [64, 108], 'statistics': [65], 'are': [66], 'encoded': [67], 'daily': [70], 'rhythm': [71], 'people': [73, 172], 'by': [74], 'decomposing': [75], 'into': [79, 143], 'a': [80, 94, 140], 'linear': [81], 'combination': [82], 'two': [84, 115], 'dominant': [85, 116], 'patterns.': [86], 'The': [87, 134], 'mixing': [88], 'ratio': [89], 'these': [91], 'patterns': [92, 118], 'defines': [93], 'measure': [95], 'for': [96], 'county,': [98], 'that': [99], 'correlates': [100], 'significantly': [101], 'with': [102], '(': [104, 110], '$0.46\\\\pm0.02$': [105], ')': [106], 'rates': [109], '$-0.34\\\\pm0.02$': [111], ').': [112], 'Thus,': [113], 'be': [120, 153], 'linked': [121], 'rhythms': [123], 'signaling': [124], 'presence': [125], 'lack': [127], 'regular': [129], 'working': [130], 'hours': [131], 'individuals.': [133], 'analysis': [135], 'could': [136, 150], 'policy': [138], 'makers': [139], 'better': [141], 'insight': [142], 'governing': [146], 'employment,': [147], 'where': [148], 'problems': [149], 'not': [151], 'only': [152], 'identified': [154], 'based': [155], 'officially': [160], 'registered': [161], 'unemployed,': [162], 'but': [163], 'also': [164], 'basis': [167], 'footprints': [171], 'leave': [173], 'different': [175], 'platforms.': [176]}"
        ],
        [
         "4",
         "https://openalex.org/W2047940964",
         "Finding community structure in very large networks",
         "{'The': [0, 147], 'discovery': [1], 'and': [2, 64, 86, 90, 155], 'analysis': [3], 'of': [4, 12, 33, 74, 106, 109, 119, 127, 178], 'community': [5, 46, 79], 'structure': [6, 47], 'in': [7, 92, 98, 133, 174], 'networks': [8, 31, 83], 'is': [9, 49, 67, 71], 'a': [10, 40, 59, 117, 128], 'topic': [11], 'considerable': [13], 'recent': [14], 'interest': [15], 'within': [16], 'the': [17, 72, 75, 78, 107, 124, 134, 144, 175], 'physics': [18], 'community,': [19], 'but': [20], 'most': [21], 'methods': [22], 'proposed': [23], 'so': [24], 'far': [25], 'are': [26, 84, 140], 'unsuitable': [27], 'for': [28, 44, 121], 'very': [29], 'large': [30, 129], 'because': [32], 'their': [34], 'computational': [35], 'cost.': [36], 'Here': [37], 'we': [38, 112], 'present': [39, 173], 'hierarchical': [41], 'agglomeration': [42], 'algorithm': [43, 96, 111, 162], 'detecting': [45], 'which': [48, 93], 'faster': [50], 'than': [51, 151], 'many': [52], 'competing': [53], 'algorithms:': [54], 'its': [55], 'running': [56], 'time': [57], 'on': [58, 123], 'network': [60, 118, 135, 148], 'with': [61, 88], '$n$': [62], 'vertices': [63, 154], '$m$': [65], 'edges': [66], '$O(md\\\\phantom{\\\\rule{0.2em}{0ex}}\\\\mathrm{log}\\\\phantom{\\\\rule{0.2em}{0ex}}n)$': [68], 'where': [69], '$d$': [70], 'depth': [73], 'dendrogram': [76], 'describing': [77], 'structure.': [80], 'Many': [81], 'real-world': [82], 'sparse': [85], 'hierarchical,': [87], '$m\\\\ensuremath{\\\\sim}n$': [89], '$d\\\\ensuremath{\\\\sim}\\\\mathrm{log}\\\\phantom{\\\\rule{0.2em}{0ex}}n$,': [91], 'case': [94], 'our': [95, 161], 'runs': [97], 'essentially': [99], 'linear': [100], 'time,': [101], '$O(n\\\\phantom{\\\\rule{0.2em}{0ex}}{\\\\mathrm{log}}^{2}\\\\phantom{\\\\rule{0.2em}{0ex}}n)$.': [102], 'As': [103], 'an': [104], 'example': [105], 'application': [108], 'this': [110, 168], 'use': [113], 'it': [114], 'to': [115], 'analyze': [116], 'items': [120, 132], 'sale': [122], 'web': [125], 'site': [126], 'on-line': [130], 'retailer,': [131], 'being': [136], 'linked': [137], 'if': [138], 'they': [139], 'frequently': [141], 'purchased': [142], 'by': [143], 'same': [145], 'buyer.': [146], 'has': [149], 'more': [150], '400': [152], '000': [153], '$2\\\\ifmmode\\\\times\\\\else\\\\texttimes\\\\fi{}{10}^{6}$': [156], 'edges.': [157], 'We': [158], 'show': [159], 'that': [160], 'can': [163], 'extract': [164], 'meaningful': [165], 'communities': [166], 'from': [167], 'network,': [169], 'revealing': [170], 'large-scale': [171], 'patterns': [172], 'purchasing': [176], 'habits': [177], 'customers.': [179]}"
        ],
        [
         "5",
         "https://openalex.org/W2061099285",
         "Performance of modularity maximization in practical contexts",
         "{'Although': [0], 'widely': [1], 'used': [2], 'in': [3, 22, 34, 168, 184], 'practice,': [4], 'the': [5, 10, 42, 53, 80, 84, 102, 105, 109, 126, 141, 144, 148, 157, 193, 197], 'behavior': [6, 82], 'and': [7, 40, 70, 107, 147, 186], 'accuracy': [8], 'of': [9, 31, 66, 83, 91, 104, 111, 143, 150, 159, 196, 208], 'popular': [11], 'module': [12, 151], 'identification': [13], 'technique': [14], 'called': [15], 'modularity': [16, 47, 54, 86, 161], 'maximization': [17, 162], 'is': [18], 'not': [19, 135], 'well': [20], 'understood': [21], 'practical': [23], 'contexts.': [24, 170], 'Here,': [25], 'we': [26, 38, 50, 78, 123], 'present': [27], 'a': [28, 73], 'broad': [29], 'characterization': [30], 'its': [32], 'performance': [33], 'such': [35, 139, 211], 'situations.': [36], 'First,': [37], 'revisit': [39], 'clarify': [41], 'resolution': [43], 'limit': [44], 'phenomenon': [45], 'for': [46, 88, 205], 'maximization.': [48], 'Second,': [49], 'show': [51, 124], 'that': [52, 96, 125, 156], 'function': [55], 'Q': [56], 'exhibits': [57], 'extreme': [58], 'degeneracies:': [59], 'it': [60, 97, 113], 'typically': [61, 71], 'admits': [62], 'an': [63], 'exponential': [64], 'number': [65, 110], 'distinct': [67], 'high-scoring': [68, 182], 'solutions': [69, 128, 218], 'lacks': [72], 'clear': [74], 'global': [75], 'maximum.': [76], 'Third,': [77], 'derive': [79], 'limiting': [81], 'maximum': [85], 'Qmax': [87], 'one': [89], 'model': [90], 'infinitely': [92], 'modular': [93, 194], 'networks,': [94], 'showing': [95], 'depends': [98], 'strongly': [99], 'both': [100], 'on': [101, 108, 132, 192], 'size': [103], 'network': [106], 'modules': [112, 146], 'contains.': [114], 'Finally,': [115], 'using': [116, 220], 'three': [117], 'real-world': [118], 'metabolic': [119], 'networks': [120], 'as': [121, 140, 212], 'examples,': [122], 'degenerate': [127, 217], 'can': [129, 190], 'fundamentally': [130], 'disagree': [131, 191], 'many,': [133], 'but': [134], 'all,': [136], 'partition': [137], 'properties': [138], 'composition': [142], 'largest': [145], 'distribution': [149], 'sizes.': [152], 'These': [153], 'results': [154], 'imply': [155], 'output': [158], 'any': [160], 'procedure': [163], 'should': [164], 'be': [165], 'interpreted': [166], 'cautiously': [167], 'scientific': [169], 'They': [171], 'also': [172], 'explain': [173], 'why': [174, 187], 'many': [175, 216], 'heuristics': [176, 189], 'are': [177], 'often': [178], 'successful': [179], 'at': [180], 'finding': [181], 'partitions': [183], 'practice': [185], 'different': [188], 'structure': [195], 'same': [198], 'network.': [199], 'We': [200], 'conclude': [201], 'by': [202], 'discussing': [203], 'avenues': [204], 'mitigating': [206], 'some': [207], 'these': [209], 'behaviors,': [210], 'combining': [213], 'information': [214], 'from': [215], 'or': [219], 'generative': [221], 'models.': [222]}"
        ],
        [
         "6",
         "https://openalex.org/W2095072199",
         "Finding local community structure in networks",
         "{'Although': [0], 'the': [1, 18, 26, 46, 57, 76, 82, 99, 111, 139], 'inference': [2], 'of': [3, 14, 37, 48, 84, 114, 119, 143], 'global': [4, 123], 'community': [5, 39], 'structure': [6, 40], 'in': [7, 17, 67, 138], 'networks': [8], 'has': [9], 'recently': [10], 'become': [11], 'a': [12, 35, 52, 62, 93], 'topic': [13], 'great': [15], 'interest': [16], 'physics': [19], 'community,': [20], 'all': [21], 'such': [22], 'algorithms': [23, 120], 'require': [24, 122], 'that': [25, 44, 50, 107, 118, 121], 'graph': [27, 58], 'be': [28, 87], 'completely': [29], 'known.': [30], 'Here,': [31], 'we': [32, 128], 'define': [33], 'both': [34], 'measure': [36], 'local': [38, 135], 'and': [41, 79], 'an': [42, 126, 144], 'algorithm': [43, 65, 131], 'infers': [45], 'hierarchy': [47], 'communities': [49], 'enclose': [51], 'given': [53], 'vertex': [54, 60, 95], 'by': [55], 'exploring': [56, 92], 'one': [59], 'at': [61], 'time.': [63], 'This': [64], 'runs': [66], 'time': [68, 97, 101], '$O({k}^{2}d)$': [69], 'for': [70], 'general': [71], 'graphs': [72, 90, 110], 'when': [73], '$d$': [74], 'is': [75, 81, 96, 102], 'mean': [77], 'degree': [78], '$k$': [80], 'number': [83], 'vertices': [85], 'to': [86, 132], 'explored.': [88], 'For': [89], 'where': [91], 'new': [94], 'consuming,': [98], 'running': [100], 'linear,': [103], '$O(k)$.': [104], 'We': [105], 'show': [106], 'on': [108], 'computer-generated': [109], 'average': [112], 'behavior': [113], 'this': [115, 130], 'technique': [116], 'approximates': [117], 'knowledge.': [124], 'As': [125], 'application,': [127], 'use': [129], 'extract': [133], 'meaningful': [134], 'clustering': [136], 'information': [137], 'large': [140], 'recommender': [141], 'network': [142], 'online': [145], 'retailer.': [146]}"
        ],
        [
         "7",
         "https://openalex.org/W2102017123",
         "Systematic inequality and hierarchy in faculty hiring networks",
         "{'The': [0], 'faculty': [1, 26, 48, 66, 76, 119, 122], 'job': [2], 'market': [3], 'plays': [4], 'a': [5, 22, 29, 34, 79, 99, 125], 'fundamental': [6], 'role': [7], 'in': [8, 67, 143], 'shaping': [9], 'research': [10], 'priorities,': [11], 'educational': [12], 'outcomes,': [13], 'and': [14, 19, 57, 81, 112, 124, 145], 'career': [15], 'trajectories': [16], 'among': [17], 'scientists': [18], 'institutions.': [20], 'However,': [21], 'quantitative': [23], 'understanding': [24], 'of': [25, 141], 'hiring': [27, 49, 77], 'as': [28, 54], 'system': [30], 'is': [31], 'lacking.': [32], 'Using': [33], 'simple': [35], 'technique': [36], 'to': [37, 117, 137], 'extract': [38], 'the': [39, 130, 139, 150], 'institutional': [40, 114], 'prestige': [41, 92, 115, 142], 'ranking': [42], 'that': [43, 75, 85], 'best': [44], 'explains': [45], 'an': [46], 'observed': [47], 'network-who': [50], 'hires': [51], 'whose': [52], 'graduates': [53], 'faculty-we': [55], 'present': [56], 'analyze': [58], 'comprehensive': [59], 'placement': [60, 97], 'data': [61], 'on': [62, 149], 'nearly': [63], '19,000': [64], 'regular': [65], 'three': [68], 'disparate': [69], 'disciplines.': [70], 'Across': [71], 'disciplines,': [72], 'we': [73], 'find': [74], 'follows': [78], 'common': [80], 'steeply': [82], 'hierarchical': [83], 'structure': [84], 'reflects': [86], 'profound': [87], 'social': [88], 'inequality.': [89], 'Furthermore,': [90], 'doctoral': [91], 'alone': [93], 'better': [94, 121], 'predicts': [95], 'ultimate': [96], 'than': [98, 110], 'U.S.': [100], 'News': [101], '&': [102], 'World': [103], 'Report': [104], 'rank,': [105], 'women': [106], 'generally': [107], 'place': [108], 'worse': [109], 'men,': [111], 'increased': [113, 118], 'leads': [116], 'production,': [120], 'placement,': [123], 'more': [126], 'influential': [127], 'position': [128], 'within': [129], 'discipline.': [131], 'These': [132], 'results': [133], 'advance': [134], 'our': [135], 'ability': [136], 'quantify': [138], 'influence': [140], 'academia': [144], 'shed': [146], 'new': [147], 'light': [148], 'academic': [151], 'system.': [152]}"
        ],
        [
         "8",
         "https://openalex.org/W2585057539",
         "Data-driven predictions in the science of science",
         "{'The': [0], 'desire': [1], 'to': [2, 29, 34], 'predict': [3], 'discoveries—to': [4], 'have': [5], 'some': [6], 'idea,': [7], 'in': [8], 'advance,': [9], 'of': [10, 23, 47, 50, 60, 75], 'what': [11, 53], 'will': [12], 'be': [13], 'discovered,': [14], 'by': [15], 'whom,': [16], 'when,': [17], 'and': [18, 44, 52, 77, 82], 'where—pervades': [19], 'nearly': [20], 'all': [21], 'aspects': [22], 'modern': [24], 'science,': [25], 'from': [26, 31, 72], 'individual': [27], 'scientists': [28], 'publishers,': [30], 'funding': [32], 'agencies': [33], 'hiring': [35], 'committees.': [36], 'In': [37], 'this': [38], 'Essay,': [39], 'we': [40], 'survey': [41], 'the': [42, 48, 58, 73, 85], 'emerging': [43], 'interdisciplinary': [45], 'field': [46], '“science': [49], 'science”': [51], 'it': [54], 'teaches': [55], 'us': [56], 'about': [57], 'predictability': [59], 'scientific': [61, 86], 'discovery.': [62], 'We': [63], 'then': [64], 'discuss': [65], 'future': [66], 'opportunities': [67], 'for': [68], 'improving': [69], 'predictions': [70], 'derived': [71], 'science': [74, 76], 'its': [78], 'potential': [79], 'impact,': [80], 'positive': [81], 'negative,': [83], 'on': [84], 'community.': [87]}"
        ],
        [
         "9",
         "https://openalex.org/W2074562205",
         "Power-law distributions in binned empirical data",
         "{'Many': [0], 'man-made': [1], 'and': [2, 13, 36, 59, 86, 108, 140], 'natural': [3], 'phenomena,': [4], 'including': [5], 'the': [6, 46, 55, 69, 73, 79, 89, 104, 119, 132, 142], 'intensity': [7], 'of': [8, 11, 15, 27, 91, 121, 134], 'earthquakes,': [9], 'population': [10], 'cities': [12], 'size': [14], 'international': [16], 'wars,': [17], 'are': [18, 61], 'believed': [19], 'to': [20, 88, 138, 144], 'follow': [21], 'power-law': [22, 28, 47, 80], 'distributions.': [23], 'The': [24], 'accurate': [25], 'identification': [26], 'patterns': [29], 'has': [30], 'significant': [31], 'consequences': [32], 'for': [33, 43, 77, 112], 'correctly': [34], 'understanding': [35], 'modeling': [37], 'complex': [38], 'systems.': [39], 'However,': [40], 'statistical': [41, 135], 'evidence': [42], 'or': [44], 'against': [45, 114], 'hypothesis': [48, 100], 'is': [49, 65], 'complicated': [50], 'by': [51, 83], 'large': [52], 'fluctuations': [53], 'in': [54], 'empirical': [56], \"distribution's\": [57], 'tail,': [58], 'these': [60, 122], 'worsened': [62], 'when': [63], 'information': [64], 'lost': [66], 'from': [67], 'binning': [68], 'data.': [70, 93], 'We': [71, 117], 'adapt': [72], 'statistically': [74], 'principled': [75], 'framework': [76], 'testing': [78], 'hypothesis,': [81], 'developed': [82], 'Clauset,': [84], 'Shalizi': [85], 'Newman,': [87], 'case': [90], 'binned': [92, 126, 147], 'This': [94], 'approach': [95], 'includes': [96], 'maximum-likelihood': [97], 'fitting,': [98], 'a': [99], 'test': [101], 'based': [102], 'on': [103, 124], 'Kolmogorov--Smirnov': [105], 'goodness-of-fit': [106], 'statistic': [107], 'likelihood': [109], 'ratio': [110], 'tests': [111], 'comparing': [113], 'alternative': [115], 'explanations.': [116], 'evaluate': [118], 'effectiveness': [120], 'methods': [123, 143], 'synthetic': [125], 'data': [127, 148], 'with': [128, 150], 'known': [129], 'structure,': [130], 'quantify': [131], 'loss': [133], 'power': [136], 'due': [137], 'binning,': [139], 'apply': [141], 'twelve': [145], 'real-world': [146], 'sets': [149], 'heavy-tailed': [151], 'patterns.': [152]}"
        ],
        [
         "10",
         "https://openalex.org/W3189072387",
         "Examining the consumption of radical content on YouTube",
         "{'Although': [0], 'it': [1], 'is': [2, 11, 105, 153, 170], 'under-studied': [3], 'relative': [4], 'to': [5, 54, 57, 142, 189, 201], 'other': [6], 'social': [7], 'media': [8, 19], 'platforms,': [9], 'YouTube': [10, 32, 104, 173, 199], 'arguably': [12], 'the': [13, 23, 190, 208], 'largest': [14], 'and': [15, 43, 75, 81, 109, 125, 145, 152], 'most': [16], 'engaging': [17], 'online': [18], 'consumption': [20, 102, 132, 156, 194], 'platform': [21], 'in': [22, 137, 150], 'world.': [24], 'Recently,': [25], \"YouTube's\": [26], 'scale': [27], 'has': [28], 'fueled': [29], 'concerns': [30], 'that': [31, 100, 165, 182, 205], 'users': [33], 'are': [34], 'being': [35], 'radicalized': [36], 'via': [37], 'a': [38, 67, 91, 123, 187, 211], 'combination': [39], 'of': [40, 49, 70, 94, 114, 128, 133, 139, 157, 195], 'biased': [41], 'recommendations': [42, 174], 'ostensibly': [44], 'apolitical': [45], '\"anti-woke\"': [46, 134], 'channels,': [47, 97], 'both': [48], 'which': [50], 'have': [51], 'been': [52], 'claimed': [53], 'direct': [55], 'attention': [56], 'radical': [58], 'political': [59, 95, 146, 196], 'content.': [60], 'Here': [61], 'we': [62, 98, 178], 'test': [63], 'this': [64], 'hypothesis': [65], 'using': [66], 'representative': [68], 'panel': [69], 'more': [71, 118], 'than': [72, 120], '300,000': [73], 'Americans': [74], 'their': [76], 'individual-level': [77], 'browsing': [78], 'behavior,': [79], 'on': [80, 103, 198], 'off': [82], 'YouTube,': [83], 'from': [84], 'January': [85], '2016': [86], 'through': [87], 'December': [88], '2019.': [89], 'Using': [90], 'labeled': [92], 'set': [93], 'news': [96, 101, 129], 'find': [99, 162, 179], 'dominated': [106], 'by': [107, 172], 'mainstream': [108], 'largely': [110], 'centrist': [111], 'sources.': [112], 'Consumers': [113], 'far-right': [115, 158, 168], 'content,': [116, 135], 'while': [117], 'engaged': [119], 'average,': [121], 'represent': [122], 'small': [124], 'stable': [126], 'percentage': [127], 'consumers.': [130], 'However,': [131], 'defined': [136], 'terms': [138], 'its': [140], 'opposition': [141], 'progressive': [143], 'intellectual': [144], 'agendas,': [147], 'grew': [148], 'steadily': [149], 'popularity': [151], 'correlated': [154], 'with': [155, 167], 'content': [159, 169, 197], 'off-platform.': [160], 'We': [161], 'no': [163], 'evidence': [164, 181], 'engagement': [166], 'caused': [171], 'systematically,': [175], 'nor': [176], 'do': [177], 'clear': [180], 'anti-woke': [183], 'channels': [184], 'serve': [185], 'as': [186, 210], 'gateway': [188], 'far': [191], 'right.': [192], 'Rather,': [193], 'appears': [200], 'reflect': [202], 'individual': [203], 'preferences': [204], 'extend': [206], 'across': [207], 'web': [209], 'whole.': [212]}"
        ],
        [
         "11",
         "https://openalex.org/W2155058903",
         "Structural Inference of Hierarchies in Networks",
         null
        ],
        [
         "12",
         "https://openalex.org/W2565597050",
         "The misleading narrative of the canonical faculty productivity trajectory",
         "{'Significance': [0], 'Scholarly': [1], 'productivity': [2, 38, 92, 102], 'impacts': [3], 'nearly': [4], 'every': [5], 'aspect': [6], 'of': [7, 30, 61, 65, 71, 80, 91, 110], 'a': [8, 88, 115], 'researcher’s': [9], 'career,': [10], 'from': [11], 'their': [12], 'initial': [13], 'placement': [14], 'as': [15, 105], 'faculty': [16, 101], 'to': [17, 41, 113], 'funding': [18], 'and': [19, 45, 58, 83, 98], 'tenure': [20], 'decisions.': [21], 'Historically,': [22], 'expectations': [23, 99], 'for': [24, 100], 'individuals': [25], 'rely': [26], 'on': [27, 32, 55], '60': [28], 'years': [29], 'research': [31], 'aggregate': [33], 'trends,': [34], 'which': [35], 'suggest': [36], 'that': [37, 67], 'rises': [39], 'rapidly': [40], 'an': [42, 62], 'early-career': [43], 'peak': [44], 'then': [46], 'gradually': [47], 'declines.': [48], 'Here': [49], 'we': [50], 'show,': [51], 'using': [52], 'comprehensive': [53], 'data': [54], 'the': [56, 68, 84], 'publication': [57], 'employment': [59], 'histories': [60], 'entire': [63], 'field': [64], 'research,': [66], 'canonical': [69], 'narrative': [70], '“rapid': [72], 'rise,': [73], 'gradual': [74], 'decline”': [75], 'describes': [76], 'only': [77, 108], 'about': [78], 'one-fifth': [79], 'individual': [81], 'faculty,': [82], 'remaining': [85], 'four-fifths': [86], 'exhibit': [87], 'rich': [89], 'diversity': [90], 'patterns.': [93], 'This': [94], 'suggests': [95], 'existing': [96], 'models': [97], 'require': [103], 'revision,': [104], 'they': [106], 'capture': [107], 'one': [109], 'many': [111], 'ways': [112], 'have': [114], 'successful': [116], 'career': [117], 'in': [118], 'science.': [119]}"
        ],
        [
         "13",
         "https://openalex.org/W4292475382",
         "Untangling the network effects of productivity and prominence among scientists",
         "{'While': [0], 'inequalities': [1, 134], 'in': [2, 55, 69, 132, 135], 'science': [3], 'are': [4], 'common,': [5], 'most': [6], 'efforts': [7], 'to': [8, 40, 92], 'understand': [9], 'them': [10], 'treat': [11], 'scientists': [12, 45], 'as': [13, 34, 77, 99], 'isolated': [14], 'individuals,': [15], 'ignoring': [16], 'the': [17, 28, 56, 112], 'network': [18, 29, 103], 'effects': [19, 30, 104], 'of': [20, 31, 43, 60, 80, 87, 111, 129, 146], 'collaboration.': [21], 'Here,': [22], 'we': [23, 84], 'develop': [24], 'models': [25], 'that': [26, 52, 97, 139, 151], 'untangle': [27], 'productivity': [32, 57, 113], 'defined': [33], 'paper': [35], 'counts,': [36], 'and': [37, 58, 83, 114, 137], 'prominence': [38, 59, 115], 'referring': [39], 'high-impact': [41], 'publications,': [42], 'individual': [44], 'from': [46, 90], 'their': [47, 70, 88], 'collaboration': [48, 74, 140], 'networks.': [49, 72], 'We': [50], 'find': [51, 85], 'gendered': [53], 'differences': [54, 68], 'mid-career': [61], 'researchers': [62, 100, 119], 'can': [63, 105], 'be': [64], 'largely': [65], 'explained': [66], 'by': [67, 118], 'coauthorship': [71], 'Hence,': [73], 'networks': [75, 131, 141], 'act': [76], 'a': [78, 108, 126], 'form': [79, 145], 'social': [81, 130, 149], 'capital,': [82], 'evidence': [86], 'transferability': [89], 'senior': [91], 'junior': [93], 'collaborators,': [94], 'with': [95], 'benefits': [96], 'decay': [98], 'age.': [101], 'Collaboration': [102], 'also': [106], 'explain': [107], 'large': [109], 'proportion': [110], 'advantages': [116], 'held': [117], 'at': [120], 'prestigious': [121], 'institutions.': [122], 'These': [123], 'results': [124], 'highlight': [125], 'substantial': [127], 'role': [128], 'driving': [133], 'science,': [136], 'suggest': [138], 'represent': [142], 'an': [143], 'important': [144], 'unequally': [147], 'distributed': [148], 'capital': [150], 'shapes': [152], 'who': [153], 'makes': [154], 'what': [155], 'scientific': [156], 'discoveries.': [157]}"
        ],
        [
         "14",
         "https://openalex.org/W3021340442",
         "Accuracy and Scaling Phenomena in Internet Mapping",
         "{'It': [0], 'was': [1], 'recently': [2], 'argued': [3], 'that': [4, 57, 103], 'sampling': [5, 59, 83], 'a': [6, 14, 26, 92, 113], 'network': [7], 'by': [8], 'traversing': [9], 'it': [10], 'with': [11, 20, 50], 'paths': [12], 'from': [13], 'small': [15], 'number': [16, 114], 'of': [17, 115, 124, 134, 138], 'sources,': [18], 'as': [19], 'traceroutes': [21], 'on': [22, 131], 'the': [23, 34, 69, 89, 121, 125, 132, 135, 141], 'Internet,': [24], 'creates': [25], 'fundamental': [27], 'bias': [28, 40], 'in': [29, 104, 120], 'observed': [30, 62], 'topological': [31], 'features': [32], 'like': [33], 'degree': [35, 52, 63, 77, 123], 'distribution.': [36], 'We': [37, 101], 'examine': [38], 'this': [39], 'analytically': [41, 56], 'and': [42], 'experimentally.': [43], 'For': [44, 74], 'Erd\\\\ifmmode': [45], '\\\\mbox{\\\\H{o}}\\\\else': [46], \"\\\\H{o}\\\\fi{}s-R\\\\'enyi\": [47], 'random': [48], 'graphs': [49, 75], 'mean': [51, 122], '$c$,': [53], 'we': [54, 129], 'show': [55], 'such': [58], 'gives': [60], 'an': [61], 'distribution': [64, 71], '$P(k)\\\\ensuremath{\\\\sim}{k}^{\\\\ensuremath{-}1}$': [65], 'for': [66, 140], '$k\\\\ensuremath{\\\\lesssim}c$,': [67], 'despite': [68], 'underlying': [70, 126], 'being': [72], 'Poissonian.': [73], 'whose': [76], 'distributions': [78], 'have': [79], 'power-law': [80], 'tails': [81], '$P(k)\\\\ensuremath{\\\\sim}{k}^{\\\\ensuremath{-}\\\\ensuremath{\\\\alpha}}$,': [82], 'can': [84], 'significantly': [85], 'underestimate': [86], '$\\\\ensuremath{\\\\alpha}$': [87, 139], 'when': [88], 'graph': [90], 'has': [91], 'large': [93], 'excess': [94], '(i.e.,': [95], 'many': [96], 'more': [97], 'edges': [98], 'than': [99], 'vertices).': [100], 'find': [102], 'order': [105], 'to': [106], 'accurately': [107], 'estimate': [108], '$\\\\ensuremath{\\\\alpha}$,': [109], 'one': [110], 'must': [111], 'use': [112], 'sources': [116], 'which': [117], 'grows': [118], 'linearly': [119], 'graph.': [127], 'Finally,': [128], 'comment': [130], 'accuracy': [133], 'published': [136], 'values': [137], 'Internet.': [142]}"
        ],
        [
         "15",
         "https://openalex.org/W3121790145",
         "Estimating the historical and future probabilities of large terrorist events",
         "{'Quantities': [0], 'with': [1], 'right-skewed': [2], 'distributions': [3], 'are': [4, 129], 'ubiquitous': [5], 'in': [6, 72, 136], 'complex': [7], 'social': [8, 15], 'systems,': [9], 'including': [10], 'political': [11], 'conflict,': [12], 'economics': [13], 'and': [14, 17, 95, 148], 'networks,': [16], 'these': [18], 'systems': [19], 'sometimes': [20], 'produce': [21], 'extremely': [22], 'large': [23, 70], 'events.': [24], 'For': [25], 'instance,': [26], 'the': [27, 40, 60, 69, 73, 109, 143, 174], '9/11': [28], 'terrorist': [29, 105], 'events': [30], 'produced': [31], 'nearly': [32, 35], '3000': [33], 'fatalities,': [34], 'six': [36], 'times': [37], 'more': [38], 'than': [39], 'next': [41, 175], 'largest': [42], 'event.': [43], 'But,': [44], 'was': [45], 'this': [46, 159], 'enormous': [47], 'loss': [48], 'of': [49, 62, 92, 104, 113, 145, 167], 'life': [50], 'statistically': [51], 'unlikely': [52], 'given': [53], 'modern': [54], 'terrorism’s': [55], 'historical': [56, 111], 'record?': [57], 'Accurately': [58], 'estimating': [59], 'probability': [61, 112], 'such': [63, 86], 'an': [64], 'event': [65, 121, 172], 'is': [66], 'complicated': [67], 'by': [68], 'fluctuations': [71], 'empirical': [74], 'distribution’s': [75], 'upper': [76], 'tail.': [77], 'We': [78, 156], 'present': [79], 'a': [80, 96, 101, 149, 163], 'generic': [81], 'statistical': [82, 165], 'algorithm': [83], 'for': [84], 'making': [85], 'estimates,': [87], 'which': [88], 'combines': [89], 'semi-parametric': [90], 'models': [91], 'tail': [93], 'behavior': [94], 'nonparametric': [97], 'bootstrap.': [98], 'Applied': [99], 'to': [100, 124, 131, 161], 'global': [102, 134], 'database': [103], 'events,': [106, 142], 'we': [107], 'estimate': [108], 'worldwide': [110], 'observing': [114], 'at': [115, 154, 168], 'least': [116, 169], 'one': [117, 170], '9/11-sized': [118], 'or': [119], 'larger': [120], 'since': [122], '1968': [123], 'be': [125], '11–35%.': [126], 'These': [127], 'results': [128], 'robust': [130], 'conditioning': [132], 'on': [133], 'variations': [135], 'economic': [137], 'development,': [138], 'domestic': [139], 'versus': [140], 'international': [141], 'type': [144], 'weapon': [146], 'used': [147], 'truncated': [150], 'history': [151], 'that': [152], 'stops': [153], '1998.': [155], 'then': [157], 'use': [158], 'procedure': [160], 'make': [162], 'data-driven': [164], 'forecast': [166], 'similar': [171], 'over': [173], 'decade.': [176]}"
        ],
        [
         "16",
         "https://openalex.org/W2964083839",
         "Gender, Productivity, and Prestige in Computer Science Faculty Hiring Networks",
         "{'Women': [0], 'are': [1, 111, 176], 'dramatically': [2], 'underrepresented': [3], 'in': [4, 10, 43, 81, 92, 155, 162, 221, 234], 'computer': [5, 93, 235], 'science': [6, 94], 'at': [7, 197], 'all': [8], 'levels': [9], 'academia': [11], 'and': [12, 35, 40, 52, 58, 70, 122, 125, 136, 161, 225], 'account': [13], 'for': [14, 73], 'just': [15], '15%': [16], 'of': [17, 23, 55, 61, 89, 101, 130, 141, 168, 174, 218, 232], 'tenure-track': [18, 75], 'faculty.': [19], 'Understanding': [20], 'the': [21, 50, 59, 86, 102, 117, 127, 131, 139, 166, 172, 215, 230], 'causes': [22], 'this': [24, 44], 'gender': [25, 90, 142, 150, 175, 219], 'imbalance': [26], 'would': [27], 'inform': [28], 'both': [29, 67], 'policies': [30], 'intended': [31], 'to': [32, 204, 229], 'rectify': [33], 'it': [34], 'employment': [36], 'decisions': [37, 181], 'by': [38, 49, 115, 208], 'departments': [39, 80, 193], 'individuals.': [41], 'Progress': [42], 'direction,': [45], 'however,': [46], 'is': [47], 'complicated': [48], 'complexity': [51], 'decentralized': [53], 'nature': [54, 88, 217], 'faculty': [56, 76, 95, 196, 222], 'hiring': [57, 68, 96, 103, 109, 121, 180, 223], 'non-independence': [60], 'hires.': [62], 'Using': [63], 'comprehensive': [64], 'data': [65], 'on': [66], 'outcomes': [69, 110], 'scholarly': [71, 128, 156], 'productivity': [72, 129], '2659': [74], 'across': [77], '205': [78], 'Ph.D.-granting': [79], 'North': [82], 'America,': [83], 'we': [84, 106, 186], 'investigate': [85], 'multi-dimensional': [87], 'inequality': [91, 220], 'through': [97, 182], 'a': [98], 'network': [99], 'model': [100], 'process.': [104], 'Overall,': [105], 'find': [107, 187], 'that': [108, 171, 189], 'most': [112], 'directly': [113], 'affected': [114], '(i)': [116], 'relative': [118], 'prestige': [119], 'between': [120], 'placing': [123], 'institutions': [124], '(ii)': [126], 'candidates.': [132], 'After': [133], 'including': [134], 'these,': [135], 'other': [137], 'features,': [138], 'addition': [140], 'did': [143], 'not': [144], 'significantly': [145], 'reduce': [146], 'modeling': [147], 'error.': [148], 'However,': [149], 'differences': [151], 'do': [152], 'exist,': [153], 'e.g.,': [154], 'productivity,': [157], 'postdoctoral': [158], 'training': [159], 'rates,': [160, 201], 'career': [163], 'movements': [164], 'up': [165], 'rankings': [167], 'universities,': [169], 'suggesting': [170], 'effects': [173], 'indirectly': [177], 'incorporated': [178], 'into': [179], \"gender's\": [183], 'covariates.': [184], 'Furthermore,': [185], 'evidence': [188], 'more': [190], 'highly': [191], 'ranked': [192, 210], 'recruit': [194], 'female': [195], 'higher': [198], 'than': [199], 'expected': [200], 'which': [202], 'appears': [203], 'inhibit': [205], 'similar': [206], 'efforts': [207], 'lower': [209], 'departments.': [211], 'These': [212], 'findings': [213], 'illustrate': [214], 'subtle': [216], 'networks': [224], 'provide': [226], 'new': [227], 'insights': [228], 'underrepresentation': [231], 'women': [233], 'science.': [236]}"
        ],
        [
         "17",
         "https://openalex.org/W3100467400",
         "Friends FTW! friendship and competition in halo",
         "{'How': [0], 'important': [1], 'are': [2], 'friendships': [3, 50, 83], 'in': [4, 11, 74], 'determining': [5], 'success': [6], 'by': [7], 'individuals': [8], 'and': [9, 49, 65, 93, 117, 146], 'teams': [10, 29], 'complex': [12], 'collaborative': [13, 64], 'environments?': [14], 'By': [15], 'combining': [16], 'a': [17, 85, 119], 'novel': [18], 'data': [19, 42], 'set': [20], 'containing': [21], 'the': [22, 31, 59, 99, 103], 'dynamics': [23], 'of': [24, 26, 61, 102], 'millions': [25], 'ad': [27], 'hoc': [28], 'from': [30, 52, 129], 'popular': [32], 'multiplayer': [33], 'online': [34, 55], 'first': [35], 'person': [36], 'shooter': [37], 'Halo:': [38], 'Reach': [39], 'with': [40], 'survey': [41], 'on': [43, 63], 'player': [44, 75], 'demographics,': [45], 'play': [46], 'style,': [47], 'psychometrics': [48], 'derived': [51], 'an': [53], 'anonymous': [54], 'survey,': [56], 'we': [57, 80], 'investigate': [58], 'impact': [60], 'friendship': [62, 122, 138], 'competitive': [66], 'performance.': [67], 'In': [68], 'addition': [69], 'to': [70, 89], 'finding': [71], 'significant': [72], 'differences': [73], 'behavior': [76], 'across': [77], 'these': [78], 'variables,': [79], 'find': [81], 'that': [82, 135], 'exert': [84], 'strong': [86], 'influence,': [87], 'leading': [88], 'both': [90], 'improved': [91, 144], 'individual': [92], 'team': [94], 'performance--even': [95], 'after': [96], 'controlling': [97], 'for': [98], 'overall': [100], 'expertise': [101], 'team--and': [104], 'increased': [105], 'pro-social': [106], 'behaviors.': [107], 'Players': [108], 'also': [109], 'structure': [110], 'their': [111], 'in-game': [112], 'activities': [113], 'around': [114], 'social': [115], 'opportunities,': [116], 'as': [118], 'result': [120], 'hidden': [121], 'ties': [123], 'can': [124], 'be': [125], 'accurately': [126], 'inferred': [127], 'directly': [128], 'behavioral': [130], 'time': [131], 'series.': [132], 'Virtual': [133], 'environments': [134], 'enable': [136], 'such': [137], 'effects': [139], 'will': [140], 'thus': [141], 'likely': [142], 'see': [143], 'collaboration': [145], 'competition.': [147]}"
        ],
        [
         "18",
         "https://openalex.org/W2803567385",
         "Prestige drives epistemic inequality in the diffusion of scientific ideas",
         "{'The': [0], 'spread': [1, 18, 47, 86, 153, 176, 270], 'of': [2, 21, 48, 67, 75, 87, 95, 111, 119, 133, 154, 177, 184, 210, 230, 264, 271], 'ideas': [3, 17, 88, 155, 179, 231, 272], 'in': [4, 14, 83, 89, 97, 122, 156, 267, 273], 'the': [5, 46, 65, 73, 85, 93, 98, 108, 123, 129, 152, 174, 182, 194, 221, 228, 247, 262, 269], 'scientific': [6], 'community': [7], 'is': [8, 39], 'often': [9], 'viewed': [10], 'as': [11, 241], 'a': [12, 161, 257], 'competition,': [13], 'which': [15, 71], 'good': [16], 'further': [19], 'because': [20], 'greater': [22], 'intrinsic': [23], 'fitness,': [24], 'and': [25, 28, 34, 50, 92, 125, 127, 131, 149, 180, 206, 227, 255], 'publication': [26], 'venue': [27], 'citation': [29], 'counts': [30], 'correlate': [31], 'with': [32], 'importance': [33, 94], 'impact.': [35], 'However,': [36], 'relatively': [37], 'little': [38], 'known': [40], 'about': [41], 'how': [42, 52, 59], 'structural': [43, 265], 'factors': [44], 'influence': [45, 58], 'ideas,': [49], 'specifically': [51], 'where': [53, 96, 185], 'an': [54, 100, 186, 242], 'idea': [55, 101, 187], 'originates': [56, 188], 'might': [57], 'it': [60], 'spreads.': [61], 'Here,': [62], 'we': [63, 142, 163], 'investigate': [64], 'role': [66], 'faculty': [68, 81, 113, 146, 239], 'hiring': [69, 109, 147, 240], 'networks,': [70], 'embody': [72], 'set': [74], 'researcher': [76], 'transitions': [77], 'from': [78, 200, 214], 'doctoral': [79], 'to': [80, 172], 'institutions,': [82, 254], 'shaping': [84, 268], 'computer': [90, 120], 'science,': [91], 'network': [99], 'originates.': [102], 'We': [103, 196], 'consider': [104], 'comprehensive': [105], 'data': [106], 'on': [107, 128, 189], 'events': [110], '5032': [112], 'at': [114], 'all': [115], '205': [116], 'Ph.D.-granting': [117], 'departments': [118], 'science': [121], 'U.S.': [124], 'Canada,': [126], 'timing': [130], 'titles': [132], '200,476': [134], 'associated': [135], 'publications.': [136], 'Analyzing': [137], 'five': [138], 'popular': [139], 'research': [140, 178, 199], 'topics,': [141], 'show': [143], 'empirically': [144], 'that': [145, 198, 245], 'can': [148], 'does': [150], 'facilitate': [151], 'science.': [157, 274], 'Having': [158], 'established': [159], 'such': [160], 'mechanism,': [162], 'then': [164], 'analyze': [165], 'its': [166, 190], 'potential': [167], 'consequences': [168], 'using': [169], 'epidemic': [170], 'models': [171], 'simulate': [173], 'generic': [175], 'quantify': [181], 'impact': [183, 263], 'longterm': [191], 'diffusion': [192], 'across': [193], 'network.': [195], 'find': [197], 'prestigious': [201, 216], 'institutions': [202], 'spreads': [203], 'more': [204], 'quickly': [205], 'completely': [207], 'than': [208], 'work': [209], 'similar': [211], 'quality': [212, 229], 'originating': [213], 'less': [215], 'institutions.': [217], 'Our': [218, 236], 'analyses': [219], 'establish': [220, 238], 'theoretical': [222, 258], 'trade-offs': [223], 'between': [224], 'university': [225], 'prestige': [226], 'necessary': [232], 'for': [233, 252, 261], 'efficient': [234], 'circulation.': [235], 'results': [237], 'underlying': [243], 'mechanism': [244], 'drives': [246], 'persistent': [248], 'epistemic': [249], 'advantage': [250], 'observed': [251], 'elite': [253], 'provide': [256], 'lower': [259], 'bound': [260], 'inequality': [266]}"
        ],
        [
         "19",
         "https://openalex.org/W2130167023",
         "Scoring dynamics across professional team sports: tempo, balance and predictability",
         "{'Despite': [0], 'growing': [1], 'interest': [2], 'in': [3, 37, 59, 129], 'quantifying': [4], 'and': [5, 45, 51, 133, 152], 'modeling': [6], 'the': [7, 107, 110, 126, 166], 'scoring': [8, 35, 60, 65, 69, 84, 146], 'dynamics': [9, 128, 147], 'within': [10, 115], 'professional': [11, 46, 49, 52, 149], 'sports': [12, 132, 176], 'games,': [13], 'relative': [14], 'little': [15], 'is': [16], 'known': [17], 'about': [18, 175], 'what': [19], 'patterns': [20, 58, 143], 'or': [21], 'principles,': [22], 'if': [23], 'any,': [24], 'cut': [25], 'across': [26, 148], 'different': [27], 'sports.': [28], 'Using': [29], 'a': [30, 39, 75, 80, 89, 96, 101, 116, 162], 'comprehensive': [31], 'data': [32], 'set': [33], 'of': [34, 43, 109, 119, 165, 168], 'events': [36, 70], 'nearly': [38], 'dozen': [40], 'consecutive': [41], 'seasons': [42], 'college': [44], '(American)': [47], 'football,': [48], 'hockey,': [50], 'basketball,': [53], 'we': [54, 121], 'identify': [55], 'several': [56, 172], 'common': [57, 76, 97, 141], 'dynamics.': [61, 177], 'Across': [62], 'these': [63, 113], 'sports,': [64, 151], 'tempo': [66], '-': [67, 72, 86, 94], 'when': [68], 'occur': [71], 'closely': [73], 'follows': [74, 95], 'Poisson': [77], 'process,': [78, 99], 'with': [79, 100, 106, 161], 'sport-specific': [81], 'rate.': [82], 'Similarly,': [83], 'balance': [85], 'how': [87], 'often': [88], 'team': [90, 150], 'wins': [91], 'an': [92], 'event': [93], 'Bernoulli': [98], 'parameter': [102], 'that': [103], 'effectively': [104], 'varies': [105], 'size': [108], 'lead.': [111], 'Combining': [112], 'processes': [114], 'generative': [117], 'model': [118], 'gameplay,': [120], 'find': [122], 'they': [123], 'both': [124], 'reproduce': [125], 'observed': [127], 'all': [130], 'four': [131], 'accurately': [134], 'predict': [135], 'game': [136], 'outcomes.': [137], 'These': [138], 'results': [139, 170], 'demonstrate': [140], 'dynamical': [142], 'underlying': [144], 'within-game': [145], 'suggest': [153], 'specific': [154], 'mechanisms': [155], 'for': [156, 171], 'driving': [157], 'them.': [158], 'We': [159], 'close': [160], 'brief': [163], 'discussion': [164], 'implications': [167], 'our': [169], 'popular': [173], 'hypotheses': [174], '(See': [178], 'supplementary': [179], 'material': [180], '1)': [181]}"
        ],
        [
         "20",
         "https://openalex.org/W2160075231",
         "A Generalized Aggregation-Disintegration Model for the Frequency of Severe Terrorist Attacks",
         "{'We': [0, 94], 'present': [1], 'and': [2, 34, 42, 82, 106, 112], 'analyze': [3], 'a': [4, 55], 'model': [5, 18, 102], 'of': [6, 9, 19, 31, 50, 61, 88, 91, 100, 109], 'the': [7, 15, 29, 48, 92, 98, 107], 'frequency': [8], 'severe': [10], 'terrorist': [11, 38, 74, 110], 'attacks,': [12], 'which': [13, 25, 35, 77, 83], 'generalizes': [14], 'recently': [16], 'proposed': [17], 'Johnson': [20], 'et': [21], 'al.': [22], 'This': [23, 63], 'model,': [24], 'is': [26, 65, 86], 'based': [27], 'on': [28], 'notion': [30], 'self-organized': [32], 'criticality': [33], 'describes': [36], 'how': [37], 'cells': [39], 'might': [40], 'aggregate': [41], 'disintegrate': [43], 'over': [44], 'time,': [45], 'predicts': [46], 'that': [47], 'distribution': [49], 'attack': [51], 'severities': [52], 'should': [53], 'follow': [54], 'power-law': [56], 'form': [57], 'with': [58, 69], 'an': [59], 'exponent': [60], 'alpha=5/2.': [62], 'prediction': [64], 'in': [66], 'good': [67], 'agreement': [68], 'current': [70], 'empirical': [71], 'estimates': [72], 'for': [73, 103], 'attacks': [75], 'worldwide,': [76], 'give': [78], 'alpha=2.4': [79], '\\\\pm': [80], '0.2,': [81], 'we': [84], 'show': [85], 'independent': [87], 'certain': [89], 'details': [90], 'model.': [93], 'close': [95], 'by': [96], 'discussing': [97], 'utility': [99], 'this': [101], 'understanding': [104], 'terrorism': [105], 'behavior': [108], 'organizations,': [111], 'mention': [113], 'several': [114], 'productive': [115], 'ways': [116], 'it': [117], 'could': [118], 'be': [119], 'extended': [120], 'mathematically': [121], 'or': [122], 'tested': [123], 'empirically.': [124]}"
        ],
        [
         "21",
         "https://openalex.org/W3107549912",
         "Evaluating the scale, growth, and origins of right-wing echo chambers on YouTube",
         "{'Although': [0], 'it': [1, 197], 'is': [2, 11, 85], 'understudied': [3], 'relative': [4], 'to': [5, 39, 175], 'other': [6, 124], 'social': [7], 'media': [8, 19], 'platforms,': [9], 'YouTube': [10, 129, 165, 173], 'arguably': [12], 'the': [13, 23, 144, 183, 188], 'largest': [14], 'and': [15, 84, 89, 116, 147], 'most': [16], 'engaging': [17], 'online': [18, 139], 'consumption': [20, 81, 168, 181, 192], 'platform': [21], 'in': [22, 110], 'world.': [24], 'Recently,': [25], \"YouTube's\": [26], 'outsize': [27], 'influence': [28], 'has': [29], 'sparked': [30], 'concerns': [31, 47], 'that': [32, 69, 160], 'its': [33], 'recommendation': [34], 'algorithm': [35], 'systematically': [36], 'directs': [37], 'users': [38, 120], 'radical': [40, 170], 'right-wing': [41], 'content.': [42, 127], 'Here': [43], 'we': [44, 67, 94, 156], 'investigate': [45], 'these': [46, 136], 'with': [48, 64], 'large': [49], 'scale': [50], 'longitudinal': [51], 'data': [52], 'of': [53, 80, 105, 126, 135, 149, 169, 179, 190], \"individuals'\": [54], 'browsing': [55], 'behavior': [56], 'spanning': [57], 'January': [58], '2016': [59], 'through': [60], 'December': [61], '2019.': [62], 'Consistent': [63], 'previous': [65], 'work,': [66], 'find': [68, 96, 157], 'political': [70], 'news': [71, 140, 180], 'content': [72, 107, 171], 'accounts': [73, 130], 'for': [74, 98, 131], 'a': [75, 99], 'relatively': [76], 'small': [77, 100], 'fraction': [78, 134], '(11%)': [79], 'on': [82, 172], 'YouTube,': [83], 'dominated': [86], 'by': [87, 164], 'mainstream': [88], 'largely': [90], 'centrist': [91], 'sources.': [92], 'However,': [93], 'also': [95], 'evidence': [97, 159], 'but': [101], 'growing': [102], 'echo': [151], 'chamber': [152], 'far-right': [106], 'consumption.': [108, 141], 'Users': [109], 'this': [111, 150], 'community': [112], 'show': [113], 'higher': [114], 'engagement': [115], 'greater': [117], 'stickiness': [118], 'than': [119, 195], 'who': [121], 'consume': [122], 'any': [123], 'category': [125], 'Moreover,': [128], 'an': [132], 'increasing': [133], \"users'\": [137], 'overall': [138], 'Finally,': [142], 'while': [143], 'size,': [145], 'intensity,': [146], 'growth': [148], 'present': [153], 'real': [154], 'concerns,': [155], 'no': [158], 'they': [161], 'are': [162], 'caused': [163], 'recommendations.': [166, 199], 'Rather,': [167], 'appears': [174], 'reflect': [176], 'broader': [177], 'patterns': [178], 'across': [182], 'web.': [184], 'Our': [185], 'results': [186], 'emphasize': [187], 'importance': [189], 'measuring': [191], 'directly': [193], 'rather': [194], 'inferring': [196], 'from': [198]}"
        ],
        [
         "22",
         "https://openalex.org/W3200179082",
         "The dynamics of faculty hiring networks",
         "{'Faculty': [0], 'hiring': [1, 41, 69, 116, 130, 206, 221], 'networks-who': [2], 'hires': [3, 161, 201], 'whose': [4], 'graduates': [5], 'as': [6], 'faculty-exhibit': [7], 'steep': [8], 'hierarchies,': [9], 'which': [10, 44, 55, 80, 111, 143, 183], 'can': [11, 58], 'reinforce': [12, 81], 'both': [13], 'social': [14], 'and': [15, 33, 61, 125, 228], 'epistemic': [16], 'inequalities': [17, 124], 'in': [18, 42, 66, 87, 128, 142, 153, 182, 193, 219, 243], 'academia.': [19], 'Understanding': [20], 'the': [21, 31, 38, 52, 85, 94, 115, 156, 164, 196, 205, 213, 244], 'mechanisms': [22, 57], 'driving': [23], 'these': [24, 235], 'patterns': [25, 127], 'would': [26], 'inform': [27], 'efforts': [28], 'to': [29, 54, 106, 155, 195, 250], 'diversify': [30], 'academy': [32], 'shed': [34], 'new': [35, 98, 145, 185], 'light': [36], 'on': [37], 'role': [39], 'of': [40, 75, 138, 158, 169, 178, 198, 226], 'shaping': [43], 'scientific': [45], 'discoveries': [46], 'are': [47, 132, 172], 'made.': [48], 'Here,': [49], 'we': [50, 237], 'investigate': [51], 'degree': [53], 'structural': [56, 123, 215], 'explain': [59], 'hierarchy': [60, 86, 245], 'other': [62, 165], 'network': [63, 78, 167], 'characteristics': [64], 'observed': [65], 'empirical': [67], 'faculty': [68, 220], 'networks.': [70], 'We': [71, 120], 'study': [72], 'a': [73, 97, 102, 136, 144, 150, 176, 184, 190, 224, 251], 'family': [74], 'adaptive': [76], 'rewiring': [77], 'models,': [79], 'institutional': [82, 232], 'prestige': [83, 109], 'within': [84], 'five': [88], 'distinct': [89], 'ways.': [90], 'Each': [91], 'mechanism': [92, 137, 177, 216], 'determines': [93], 'probability': [95], 'that': [96, 107, 122, 212, 239, 254], 'hire': [99, 146, 186], 'comes': [100], 'from': [101, 114, 149, 189], 'particular': [103, 151, 191], 'institution': [104, 152, 192], 'according': [105], \"institution's\": [108, 241], 'score,': [110], 'is': [112, 147, 187, 223, 246], 'inferred': [113], \"network's\": [117], 'existing': [118], 'structure.': [119], 'find': [121], 'centrality': [126], 'real': [129], 'networks': [131, 222], 'best': [133], 'reproduced': [134], 'by': [135, 175], 'global': [139, 227], 'placement': [140, 180], 'power,': [141, 181], 'drawn': [148, 160, 188], 'proportion': [154, 194], 'number': [157, 197], 'previously': [159], 'anywhere.': [162], 'On': [163], 'hand,': [166], 'measures': [168], 'biased': [170], 'visibility': [171], 'better': [173], 'recapitulated': [174], 'local': [179, 229], 'its': [199], 'previous': [200], 'already': [202], 'present': [203], 'at': [204], 'institution.': [207], 'These': [208], 'contrasting': [209], 'results': [210], 'suggest': [211], 'underlying': [214], 'reinforcing': [217], 'hierarchies': [218], 'mixture': [225], 'preference': [230], 'for': [231], 'prestige.': [233], 'Under': [234], 'dynamics,': [236], 'show': [238], 'each': [240], 'position': [242], 'remarkably': [247], 'stable,': [248], 'due': [249], 'dynamic': [252], 'competition': [253], 'overwhelmingly': [255], 'favors': [256], 'more': [257], 'prestigious': [258], 'institutions.': [259]}"
        ],
        [
         "23",
         "https://openalex.org/W4309672241",
         "Subfield prestige and gender inequality among U.S. computing faculty",
         "{'A': [0], 'study': [1], 'of': [2, 5], 'the': [3], 'intersections': [4], 'gender,': [6], 'race,': [7], 'socioeconomic': [8], 'status,': [9], 'prestige,': [10], 'and': [11], 'subfield': [12], 'structure': [13], 'in': [14], 'computing.': [15]}"
        ],
        [
         "24",
         "https://openalex.org/W2158526526",
         "Evolutionary Model of Species Body Mass Diversification",
         "{'We': [0, 43], 'present': [1], 'a': [2, 50], 'quantitative': [3], 'model': [4], 'for': [5, 53], 'the': [6, 70], 'biological': [7], 'evolution': [8, 46], 'of': [9, 16, 49], 'species': [10, 80], 'body': [11, 24], 'masses': [12], 'within': [13], 'large': [14], 'groups': [15], 'related': [17], 'species,': [18], 'e.g.,': [19], 'terrestrial': [20, 67], 'mammals,': [21, 68], 'in': [22, 47, 59], 'which': [23], 'mass': [25], 'M': [26], 'evolves': [27], 'according': [28], 'to': [29], 'branching': [30], '(speciation),': [31], 'multiplicative': [32], 'diffusion,': [33], 'and': [34, 69], 'an': [35], 'extinction': [36], 'probability': [37], 'that': [38], 'increases': [39], 'logarithmically': [40], 'with': [41, 62, 75], 'mass.': [42], 'describe': [44], 'this': [45], 'terms': [48], 'convection-diffusion-reaction': [51], 'equation': [52], 'lnM.': [54], 'The': [55], 'steady-state': [56], 'behavior': [57, 72], 'is': [58], 'good': [60], 'agreement': [61], 'empirical': [63], 'data': [64, 76], 'on': [65, 77], 'recent': [66], 'time-dependent': [71], 'also': [73], 'agrees': [74], 'extinct': [78], 'mammal': [79], 'between': [81], '95-50': [82], 'Myr': [83], 'ago.': [84]}"
        ],
        [
         "25",
         "https://openalex.org/W3102637508",
         "How Many Species Have Mass <i>M</i>?",
         "{'Within': [0], 'large': [1], 'taxonomic': [2], 'assemblages,': [3], 'the': [4, 22, 31, 79, 97, 115, 126, 150], 'number': [5], 'of': [6, 27, 117, 129, 152], 'species': [7, 53, 154], 'with': [8, 21, 63, 90], 'adult': [9], 'body': [10], 'mass': [11, 24, 54, 83, 133, 139], 'M': [12], 'is': [13, 44, 134], 'characterized': [14], 'by': [15, 40, 47, 57], 'a': [16, 48, 71, 111], 'broad': [17], 'but': [18], 'asymmetric': [19], 'distribution,': [20], 'largest': [23], 'being': [25], 'orders': [26], 'magnitude': [28], 'larger': [29, 121], 'than': [30], 'typical': [32], 'mass.': [33, 64], 'This': [34], 'canonical': [35], 'shape': [36], 'can': [37], 'be': [38], 'explained': [39], 'cladogenetic': [41, 73], 'diffusion': [42, 74], 'that': [43, 60, 85, 110], 'bounded': [45], 'below': [46], 'hard': [49], 'limit': [50], 'on': [51, 92], 'viable': [52], 'and': [55, 68, 100, 125], 'above': [56], 'extinction': [58, 130], 'risks': [59], 'increase': [61], 'weakly': [62], 'Here': [65], 'we': [66, 108], 'introduce': [67], 'analytically': [69], 'solve': [70], 'simplified': [72], 'model.': [75], 'When': [76], 'appropriately': [77], 'parameterized,': [78], 'diffusion‐reaction': [80], 'equation': [81], 'predicts': [82], 'distributions': [84, 140], 'are': [86], 'in': [87], 'good': [88], 'agreement': [89], 'data': [91], '4,002': [93], 'terrestrial': [94], 'mammals': [95], 'from': [96, 131], 'late': [98], 'Quaternary': [99], '8,617': [101], 'extant': [102], 'bird': [103], 'species.': [104], 'Under': [105], 'this': [106], 'model,': [107], 'show': [109], 'specific': [112], 'trade‐off': [113], 'between': [114], 'strength': [116], 'within‐lineage': [118], 'drift': [119], 'toward': [120], 'masses': [122], \"(Cope's\": [123], 'rule)': [124], 'increased': [127, 132], 'risk': [128], 'necessary': [135], 'to': [136], 'produce': [137], 'realistic': [138], 'for': [141], 'both': [142], 'taxa.': [143], 'We': [144], 'then': [145], 'make': [146], 'several': [147], 'predictions': [148], 'about': [149], 'evolution': [151], 'avian': [153], 'masses.': [155]}"
        ],
        [
         "26",
         "https://openalex.org/W1729157025",
         "Adapting to Non-stationarity with Growing Expert Ensembles",
         "{'When': [0], 'dealing': [1, 81], 'with': [2, 5, 41, 82, 105], 'time': [3], 'series': [4], 'complex': [6], 'non-stationarities,': [7], 'low': [8, 20], 'retrospective': [9], 'regret': [10, 126], 'on': [11], 'individual': [12], 'realizations': [13], 'is': [14, 77], 'a': [15, 83, 106], 'more': [16], 'appropriate': [17], 'goal': [18], 'than': [19], 'prospective': [21], 'risk': [22], 'in': [23], 'expectation.': [24], 'Online': [25], 'learning': [26], 'algorithms': [27], 'provide': [28], 'powerful': [29], 'guarantees': [30], 'of': [31, 45, 62, 110], 'this': [32], 'form,': [33], 'and': [34, 124], 'have': [35], 'often': [36], 'been': [37], 'proposed': [38], 'for': [39, 98, 128], 'use': [40], 'non-stationary': [42], 'processes': [43], 'because': [44], 'their': [46], 'ability': [47], 'to': [48, 67, 92, 103, 117], 'switch': [49], 'between': [50], 'different': [51], 'forecasters': [52], 'or': [53, 86], \"``experts''.\": [54], 'However,': [55], 'existing': [56], 'methods': [57], 'assume': [58], 'that': [59], 'the': [60, 74, 94, 100, 129], 'set': [61, 109], 'experts': [63], 'whose': [64], 'forecasts': [65], 'are': [66, 70], 'be': [68], 'combined': [69], 'all': [71], 'given': [72], 'at': [73], 'start,': [75], 'which': [76], 'not': [78], 'plausible': [79], 'when': [80], 'genuinely': [84], 'historical': [85], 'evolutionary': [87], 'system.': [88], 'We': [89], 'show': [90], 'how': [91], 'modify': [93], '``fixed': [95], \"shares''\": [96], 'algorithm': [97], 'tracking': [99], 'best': [101], 'expert': [102], 'cope': [104], 'steadily': [107], 'growing': [108, 130], 'experts,': [111], 'obtained': [112], 'by': [113], 'fitting': [114], 'new': [115, 118], 'models': [116], 'data': [119], 'as': [120], 'it': [121], 'becomes': [122], 'available,': [123], 'obtain': [125], 'bounds': [127], 'ensemble.': [131]}"
        ],
        [
         "27",
         "https://openalex.org/W3105389172",
         "Environmental structure and competitive scoring advantages in team competitions",
         "{'In': [0], 'most': [1, 112], 'professional': [2], 'sports,': [3], 'the': [4, 7, 61, 77, 82, 132, 139], 'structure': [5, 66], 'of': [6, 45, 84, 134, 141], 'environment': [8], 'is': [9], 'kept': [10], 'neutral': [11], 'so': [12], 'that': [13], 'scoring': [14, 35, 46, 69], 'imbalances': [15], 'may': [16], 'be': [17], 'attributed': [18], 'to': [19, 48], 'differences': [20], 'in': [21, 81, 87], 'team': [22, 52], 'skill.': [23], 'It': [24], 'thus': [25], 'remains': [26], 'unknown': [27], 'what': [28], 'impact': [29], 'structural': [30, 73, 99], 'heterogeneities': [31, 106], 'can': [32], 'have': [33], 'on': [34, 131], 'dynamics': [36, 47, 148], 'and': [37, 67, 91, 102, 137, 149], 'producing': [38], 'competitive': [39, 109], 'advantages.': [40], 'Applying': [41], 'a': [42, 64, 97], 'generative': [43], 'model': [44], 'roughly': [49], '10': [50], 'million': [51], 'competitions': [53, 114], 'drawn': [54], 'from': [55, 96, 122], 'an': [56], 'online': [57, 142], 'game,': [58], 'we': [59, 75], 'quantify': [60], 'relationship': [62], 'between': [63], \"competition's\": [65, 98], 'its': [68], 'dynamics.': [70], 'Despite': [71], 'wide': [72], 'variations,': [74], 'find': [76], 'same': [78], 'three-phase': [79], 'pattern': [80], 'tempo': [83], 'events': [85], 'observed': [86], 'many': [88], 'sports.': [89], 'Tempo': [90], 'balance': [92], 'are': [93, 115], 'highly': [94], 'predictable': [95], 'features': [100], 'alone': [101], 'teams': [103], 'exploit': [104], 'environmental': [105, 119], 'for': [107, 145], 'sustained': [108], 'advantage.': [110], 'The': [111], 'balanced': [113, 135], 'associated': [116], 'with': [117], 'specific': [118], 'heterogeneities,': [120], 'not': [121], 'equally': [123], 'skilled': [124], 'teams.': [125], 'These': [126], 'results': [127], 'shed': [128], 'new': [129], 'light': [130], 'principles': [133], 'competition,': [136], 'illustrate': [138], 'potential': [140], 'game': [143], 'data': [144], 'investigating': [146], 'social': [147], 'competition.': [150]}"
        ],
        [
         "28",
         "https://openalex.org/W2004939650",
         "A Novel Explanation of the Power-Law Form of the Frequency of Severe Terrorist Events: Reply to Saperstein",
         "{'Saperstein': [0], '(2010)': [1], 'discusses': [2], 'recent': [3], 'work': [4], 'on': [5], 'the': [6, 11], 'striking': [7], 'empirical': [8], 'observation': [9], 'that': [10], 'frequency': [12], 'and': [13, 60], 'severity': [14], 'of': [15], 'terrorist': [16], 'attacks': [17], 'follows': [18], 'a': [19, 23, 53], 'power-law': [20], 'relationship': [21], '—': [22], 'pattern': [24], 'noted': [25], 'for': [26], 'wars': [27], 'by': [28], 'Richardson': [29], '(1948,': [30], '1960)': [31], 'more': [32, 70], 'than': [33], '50': [34], 'years': [35], 'ago.': [36], 'We': [37, 46], 'are': [38], 'pleased': [39], 'with': [40], \"Saperstein's\": [41], 'interest': [42], 'in': [43, 57, 75], 'our': [44], 'work.': [45], 'do,': [47], 'however,': [48], 'feel': [49], 'obliged': [50], 'to': [51, 63, 67], 'correct': [52], 'few': [54], 'small': [55], 'mistakes': [56], 'his': [58], 'commentary': [59], 'would': [61], 'like': [62], 'take': [64], 'this': [65, 76], 'opportunity': [66], 'make': [68], 'several': [69], 'general': [71], 'remarks': [72], 'about': [73], 'research': [74], 'area.': [77]}"
        ],
        [
         "29",
         "https://openalex.org/W3047315229",
         "Generalized word shift graphs: a method for visualizing and explaining pairwise comparisons between texts",
         "{'Abstract': [0], 'A': [1], 'common': [2], 'task': [3], 'in': [4, 149], 'computational': [5, 189], 'text': [6, 196], 'analyses': [7], 'is': [8, 36, 42], 'to': [9, 16, 44, 87, 146], 'quantify': [10], 'how': [11, 83, 155], 'two': [12, 91], 'corpora': [13], 'differ': [14], 'according': [15], 'a': [17, 33, 77, 101, 136, 176], 'measurement': [18, 59], 'like': [19, 129], 'word': [20, 71, 157, 185], 'frequency,': [21], 'sentiment,': [22], 'or': [23, 48, 58], 'information': [24], 'content.': [25], 'However,': [26], 'collapsing': [27], 'the': [28, 88, 113, 130], 'texts’': [29], 'rich': [30], 'stories': [31], 'into': [32, 179], 'single': [34], 'number': [35], 'often': [37], 'conceptually': [38], 'perilous,': [39], 'and': [40, 79, 126, 132, 171, 194], 'it': [41], 'difficult': [43], 'confidently': [45], 'interpret': [46], 'interesting': [47], 'unexpected': [49], 'textual': [50, 180], 'patterns': [51], 'without': [52], 'looming': [53], 'concerns': [54], 'about': [55], 'data': [56], 'artifacts': [57], 'validity.': [60], 'To': [61], 'better': [62], 'capture': [63], 'fine-grained': [64], 'differences': [65], 'between': [66, 90, 182], 'texts,': [67, 120], 'we': [68, 153], 'introduce': [69], 'generalized': [70, 156, 184], 'shift': [72, 158, 186], 'graphs,': [73], 'visualizations': [74], 'which': [75], 'yield': [76], 'meaningful': [78], 'interpretable': [80], 'summary': [81], 'of': [82, 112, 139], 'individual': [84], 'words': [85], 'contribute': [86], 'variation': [89], 'texts': [92], 'for': [93, 118, 166], 'any': [94], 'measure': [95], 'that': [96, 106], 'can': [97, 160], 'be': [98, 161], 'formulated': [99], 'as': [100], 'weighted': [102], 'average.': [103], 'We': [104], 'show': [105], 'this': [107], 'framework': [108], 'naturally': [109], 'encompasses': [110], 'many': [111], 'most': [114], 'commonly': [115], 'used': [116], 'approaches': [117], 'comparing': [119], 'including': [121], 'relative': [122], 'frequencies,': [123], 'dictionary': [124], 'scores,': [125], 'entropy-based': [127], 'measures': [128], 'Kullback–Leibler': [131], 'Jensen–Shannon': [133], 'divergences.': [134], 'Through': [135], 'diverse': [137], 'set': [138], 'case': [140], 'studies': [141], 'ranging': [142], 'from': [143], 'presidential': [144], 'speeches': [145], 'tweets': [147], 'posted': [148], 'urban': [150], 'green': [151], 'spaces,': [152], 'demonstrate': [154], 'graphs': [159, 187], 'flexibly': [162], 'applied': [163], 'across': [164], 'domains': [165], 'diagnostic': [167], 'investigation,': [168], 'hypothesis': [169], 'generation,': [170], 'substantive': [172], 'interpretation.': [173], 'By': [174], 'providing': [175], 'detailed': [177], 'lens': [178], 'shifts': [181], 'corpora,': [183], 'help': [188], 'social': [190], 'scientists,': [191], 'digital': [192], 'humanists,': [193], 'other': [195], 'analysis': [197], 'practitioners': [198], 'fashion': [199], 'more': [200], 'robust': [201], 'scientific': [202], 'narratives.': [203]}"
        ],
        [
         "30",
         "https://openalex.org/W2104824734",
         "A Cognitive Approach to Brailling Errors",
         "{'This': [0], 'article': [1], 'analyzes': [2], 'a': [3, 16, 45], 'corpus': [4], 'of': [5, 19, 34, 38, 49], '1,600': [6], 'brailling': [7], 'errors': [8], 'made': [9], 'by': [10], 'one': [11], 'expert': [12], 'braillist.': [13], 'It': [14], 'presents': [15], 'testable': [17], 'model': [18], 'braille': [20, 30], 'writing': [21], 'and': [22], 'shows': [23], 'that': [24], 'the': [25, 35], 'subject': [26], 'braillist': [27], 'stores': [28], 'standard': [29], 'contractions': [31, 43], 'as': [32], 'part': [33], 'orthographic': [36], 'representation': [37], 'words,': [39], 'rather': [40], 'than': [41], 'imposing': [42], 'on': [44], 'serially': [46], 'ordered': [47], 'string': [48], 'letters.': [50]}"
        ],
        [
         "31",
         "https://openalex.org/W2047850274",
         "A type of aspiny neuron in the rat neostriatum accumulates [<sup>3</sup>H]γ‐aminobutyric acid: Combination of golgi‐staining, autoradiography, and electron microscopy",
         "{'Abstract': [0], 'Light': [1], 'microscopic': [2], 'autoradiography': [3], 'was': [4, 49], 'used': [5], 'to': [6, 29, 74, 130, 191], 'identify': [7], 'cells': [8, 26, 40, 80], 'in': [9, 43, 68, 123, 175, 204, 218], 'the': [10, 16, 32, 44, 75, 79, 117, 124, 144, 151, 158, 176, 199, 219], 'neostriatum': [11, 177, 220], 'that': [12, 51, 81, 102, 108, 169, 186, 210], 'became': [13], 'labelled': [14], 'after': [15], 'local': [17, 215], 'injection': [18], 'of': [19, 31, 35, 38, 65, 78, 95, 172, 181, 230], '[': [20], '3': [21], 'H]γ‐amino‐butyrate': [22], '(GABA).': [23], 'The': [24], 'GABA‐accumulating': [25, 119], 'comprised': [27], 'up': [28], '15%': [30], 'total': [33], 'population': [34], 'neurons.': [36, 233], 'Thirty‐seven': [37], 'these': [39], 'were': [41, 85, 94, 103, 121, 128, 147], 'examined': [42, 122], 'electron': [45, 125], 'microscope': [46, 126], 'and': [47, 70, 98, 107, 127, 142, 154, 185, 201], 'it': [48], 'found': [50, 129], 'they': [52], 'all': [53, 99], 'had': [54, 82, 100], 'similar': [55], 'cytological': [56], 'characteristics,': [57], 'i.e.,': [58], 'prominent': [59], 'nuclear': [60], 'indentations,': [61], 'a': [62, 111, 179, 214], 'moderate': [63], 'volume': [64], 'cytoplasm,': [66], 'rich': [67], 'organelles,': [69], 'sparse': [71], 'synaptic': [72, 137, 193], 'input': [73, 194], 'perikaryon.': [76], 'Nine': [77], 'accumulated': [83], 'GABA': [84], 'also': [86], 'impregnated': [87], 'following': [88], 'Golgi': [89], 'staining.': [90], 'These': [91], 'Golgi‐impregnated': [92], 'neurons': [93, 120, 197, 203], 'medium': [96], 'size': [97], 'dendrites': [101, 160], 'aspiny,': [104], 'often': [105], 'varicose,': [106], 'occasionally': [109], 'followed': [110], 'recurving': [112], 'path.': [113], 'After': [114], 'gold': [115], 'toning,': [116], 'Golgi‐impregnated,': [118], 'receive': [131, 192], 'boutons': [132, 163], 'forming': [133, 164], 'symmetrical': [134, 145], 'or': [135], 'asymmetrical': [136, 165], 'contacts': [138], 'on': [139, 150], 'their': [140], 'somata': [141], 'dendrites;': [143], 'synapses': [146], 'most': [148], 'common': [149], 'cell': [152], 'body': [153], 'proximal': [155], 'dendrites,': [156], 'while': [157], 'distal': [159], 'mainly': [161], 'received': [162], 'contacts.': [166], 'We': [167, 208], 'conclude': [168], 'one': [170], 'type': [171, 180], 'GABAergic': [173], 'neuron': [174, 184, 188, 212, 217], 'is': [178, 189, 213], 'medium‐sized': [182], 'aspiny': [183], 'this': [187, 211], 'likely': [190], 'both': [195], 'from': [196, 202, 228], 'within': [198], 'striatum': [200], 'distant': [205], 'brain': [206], 'regions.': [207], 'suggest': [209], 'circuit': [216], 'since': [221], 'its': [222], 'morphological': [223], 'features': [224], 'are': [225], 'quite': [226], 'distinct': [227], 'those': [229], 'identified': [231], 'projecting': [232]}"
        ],
        [
         "32",
         "https://openalex.org/W2127724524",
         "Vitamin B <sub>12</sub> status and rate of brain volume loss in community-dwelling elderly",
         "{'<b>Objectives:': [0], '</b>': [1, 27, 82, 231], 'To': [2], 'investigate': [3], 'the': [4, 144, 147, 153, 164, 170, 254], 'relationship': [5], 'between': [6], 'markers': [7], 'of': [8, 31, 64, 180, 197, 214, 221, 244, 248], 'vitamin': [9, 66, 94, 115, 167, 233], 'B<sub>12</sub>': [10, 95, 116, 168, 234], 'status': [11, 235], 'and': [12, 54, 78, 96, 99, 103, 117, 141, 161, 207, 247], 'brain': [13, 86, 129, 181, 227, 245], 'volume': [14, 87, 182, 228], 'loss': [15, 183], 'per': [16], 'year': [17], 'over': [18], 'a': [19, 241], '5-year': [20], 'period': [21], 'in': [22, 85, 157, 169, 253], 'an': [23], 'elderly': [24], 'population.': [25], '<b>Methods:': [26], 'A': [28], 'prospective': [29], 'study': [30], '107': [32], 'community-dwelling': [33], 'volunteers': [34], 'aged': [35], '61': [36], 'to': [37], '87': [38], 'years': [39], 'without': [40], 'cognitive': [41, 55, 131, 251], 'impairment': [42, 252], 'at': [43, 60, 106], 'enrollment.': [44], 'Volunteers': [45], 'were': [46, 223], 'assessed': [47], 'yearly': [48], 'by': [49], 'clinical': [50], 'examination,': [51], 'MRI': [52], 'scans,': [53], 'tests.': [56], 'Blood': [57], 'was': [58, 88, 175, 192], 'collected': [59], 'baseline': [61], 'for': [62, 123, 163, 194, 208], 'measurement': [63], 'plasma': [65, 101], 'B<sub>12</sub>,': [67], 'transcobalamin': [68], '(TC),': [69], 'holotranscobalamin': [70], '(holoTC),': [71], 'methylmalonic': [72], 'acid': [73], '(MMA),': [74], 'total': [75], 'homocysteine': [76], '(tHcy),': [77], 'serum': [79], 'folate.': [80, 142], '<b>Results:': [81], 'The': [83, 190], 'decrease': [84], 'greater': [89], 'among': [90], 'those': [91], 'with': [92, 114, 177, 226], 'lower': [93, 150], 'holoTC': [97, 118, 198], 'levels': [98, 105, 196, 213, 220], 'higher': [100], 'tHcy': [102, 217], 'MMA': [104, 215], 'baseline.': [107], 'Linear': [108], 'regression': [109, 159], 'analysis': [110, 160], 'showed': [111], 'that': [112], 'associations': [113], 'remained': [119], 'significant': [120], 'after': [121], 'adjustment': [122], 'age,': [124], 'sex,': [125], 'creatinine,': [126], 'education,': [127], 'initial': [128], 'volume,': [130], 'test': [132], 'scores,': [133], 'systolic': [134], 'blood': [135], 'pressure,': [136], 'ApoE': [137], 'ε4': [138], 'status,': [139], 'tHcy,': [140], 'Using': [143], 'upper': [145], '(for': [146, 152], 'vitamins)': [148], 'or': [149, 216, 218], 'tertile': [151, 172], 'metabolites)': [154], 'as': [155, 240], 'reference': [156], 'logistic': [158], 'adjusting': [162], 'above': [165], 'covariates,': [166], 'bottom': [171], '(&lt;308': [173], 'pmol/L)': [174, 200], 'associated': [176, 225], 'increased': [178], 'rate': [179], '(odds': [184, 201], 'ratio': [185, 202], '6.17,': [186], '95%': [187, 204], 'CI': [188, 205], '1.25–30.47).': [189], 'association': [191], 'similar': [193], 'low': [195, 209, 219], '(&lt;54': [199], '5.99,': [203], '1.21–29.81)': [206], 'TC': [210], 'saturation.': [211], 'High': [212], 'folate': [222], 'not': [224], 'loss.': [229], '<b>Conclusion:': [230], 'Low': [232], 'should': [236], 'be': [237], 'further': [238], 'investigated': [239], 'modifiable': [242], 'cause': [243], 'atrophy': [246], 'likely': [249], 'subsequent': [250], 'elderly.': [255]}"
        ],
        [
         "33",
         "https://openalex.org/W2114912188",
         "MECHANISM OF THE ANTIDEPRESSANT ACTION OF ELECTROCONVULSIVE THERAPY",
         null
        ],
        [
         "34",
         "https://openalex.org/W2137586668",
         "The synergy factor: a statistic to measure interactions in complex diseases",
         "{'One': [0], 'challenge': [1], 'in': [2, 7, 74, 85, 100, 110, 122], 'understanding': [3], 'complex': [4], 'diseases': [5], 'lies': [6], 'revealing': [8], 'the': [9, 34, 43, 46, 75, 102, 129, 162, 173, 208], 'interactions': [10, 29, 84], 'between': [11, 132], 'susceptibility': [12, 205], 'factors,': [13], 'such': [14, 28, 65], 'as': [15], 'genetic': [16], 'polymorphisms': [17], 'and': [18, 45, 56, 95, 109, 136, 153, 217], 'environmental': [19], 'exposures.': [20], 'There': [21], 'is': [22, 33], 'thus': [23], 'a': [24, 66, 106, 126, 133], 'need': [25, 35], 'to': [26, 72, 104, 113, 151, 155, 178, 189], 'examine': [27], 'explicitly.': [30], 'A': [31], 'corollary': [32], 'for': [36], 'an': [37], 'accessible': [38], 'method': [39, 69, 174], 'of': [40, 48, 64, 82, 128, 180, 204], 'measuring': [41], 'both': [42], 'size': [44], 'significance': [47], 'interactions,': [49], 'which': [50], 'can': [51, 175, 186, 198], 'be': [52, 159, 176, 187, 199], 'used': [53, 200], 'by': [54], 'non-statisticians': [55], 'with': [57, 119, 201], 'summarised,': [58], 'e.g.': [59, 99, 125, 194], 'published': [60, 195], 'data.': [61, 196], 'The': [62], 'lack': [63], 'readily': [67], 'available': [68], 'has': [70], 'contributed': [71], 'confusion': [73], 'field.The': [76], 'synergy': [77], 'factor': [78], '(SF)': [79], 'allows': [80], 'assessment': [81], 'binary': [83], 'case-control': [86], 'studies.': [87], 'In': [88], 'this': [89, 167], 'paper': [90], 'we': [91], 'describe': [92], 'its': [93, 96, 111], 'properties': [94], 'novel': [97], 'characteristics,': [98], 'calculating': [101], 'power': [103, 215], 'detect': [105], 'synergistic': [107], 'effect': [108], 'application': [112], 'meta-analyses.': [114], 'We': [115], 'illustrate': [116], 'these': [117], 'functions': [118], 'real': [120], 'examples': [121], \"Alzheimer's\": [123], 'disease,': [124], 'meta-analysis': [127], 'potential': [130], 'interaction': [131], 'BACE1': [134], 'polymorphism': [135], 'APOE4:': [137], 'SF': [138], '=': [139, 146], '2.5,': [140], '95%': [141], 'confidence': [142], 'interval:': [143], '1.5-4.2;': [144], 'p': [145], '0.0001.Synergy': [147], 'factors': [148], 'are': [149, 210], 'easy': [150], 'use': [152], 'clear': [154], 'interpret.': [156], 'Calculations': [157], 'may': [158], 'performed': [160], 'through': [161], 'Excel': [163], 'programmes': [164], 'provided': [165, 207], 'within': [166], 'article.': [168], 'Unlike': [169], 'logistic': [170], 'regression': [171], 'analysis,': [172], 'applied': [177, 188], 'datasets': [179], 'any': [181, 202], 'size,': [182], 'however': [183], 'small.': [184], 'It': [185, 197], 'primary': [190], 'or': [191], 'summarised': [192], 'data,': [193], 'type': [203], 'factor,': [206], 'data': [209], 'dichotomised.': [211], 'Novel': [212], 'features': [213], 'include': [214], 'estimation': [216], 'meta-analysis.': [218]}"
        ],
        [
         "35",
         "https://openalex.org/W1966684598",
         "Age Differences in Memory for Concrete and Abstract Pictures",
         "{'There': [0], 'is': [1, 11], 'considerable': [2], 'experimental': [3], 'literature': [4], 'showing': [5], 'that': [6, 20, 51, 91, 105, 122], 'memory': [7, 59, 66, 127], 'for': [8, 60], 'complex': [9, 33, 61, 95], 'pictures': [10, 62, 131], 'relatively': [12], 'insensitive': [13], 'to': [14, 31, 54, 100], 'age.': [15], 'Previous': [16], 'research': [17], 'has': [18], 'shown': [19, 99], 'young': [21, 101], 'and': [22, 71, 83, 102, 113], 'old': [23, 103], 'adults': [24], 'do': [25, 42], 'not': [26], 'differ': [27], 'in': [28, 94, 107, 125, 140], 'their': [29], 'ability': [30], 'recognize': [32], 'scenes.': [34, 96], 'Other': [35], 'studies,': [36], 'however,': [37], 'using': [38], 'simple': [39], 'line': [40], 'drawings,': [41], 'find': [43, 55], 'age': [44, 56, 123], 'differences.': [45], 'This': [46], 'experiment': [47], 'investigated': [48], 'the': [49, 52, 75, 84, 130], 'possibility': [50], 'failure': [53], 'differences': [57, 124], 'with': [58], 'occurs': [63], 'because': [64], 'of': [65, 77, 86, 135], 'support': [67], 'provided': [68], 'at': [69], 'encoding': [70], 'retrieval': [72], 'by': [73], 'both': [74], 'degree': [76, 85], 'visual': [78, 108, 136], 'detail': [79, 109, 137], '(complex': [80, 110], 'perceptual': [81], 'information)': [82], 'propositional': [87, 114, 141], 'content': [88, 115], '(linguistic': [89], 'meaningfulness)': [90], 'are': [92, 132], 'represented': [93], 'Pictures': [97], 'were': [98], 'subjects': [104], 'differed': [106], 'vs': [111, 117], 'simple)': [112], '(concrete': [116], 'abstract).': [118], 'The': [119], 'results': [120], 'indicated': [121], 'picture': [126], 'emerge': [128], 'if': [129], 'either': [133], 'deprived': [134], 'or': [138], 'reduced': [139], 'content.': [142]}"
        ],
        [
         "36",
         "https://openalex.org/W2060941195",
         "Diagnosing Dementia: Interrater Reliability Assessment and Accuracy of the NINCDS/ADRDA Criteria versus CERAD Histopathological Criteria for Alzheimer’s Disease",
         "{'We': [0], 'investigated': [1], 'the': [2, 47, 94, 108, 116, 124], 'interrater': [3], 'reliability': [4], 'and': [5, 41, 56, 77, 85], 'accuracy': [6, 109], 'of': [7, 38, 51, 110, 112], 'two': [8], 'independent': [9], 'medical': [10], 'doctors': [11], 'in': [12, 22, 35, 81], 'using': [13], 'NINCDS/ADRDA': [14, 54, 95], 'criteria': [15, 70], 'to': [16], 'classify': [17], '82': [18], 'elderly': [19], 'subjects': [20], 'enrolled': [21], 'OPTIMA,': [23], 'a': [24, 82, 88], 'longitudinal': [25], 'study': [26], 'investigating': [27], 'dementia.': [28, 52], 'Kappa': [29], 'statistics': [30], 'revealed': [31], 'moderate': [32], 'agreement': [33, 44, 64], '(0.5)': [34], 'overall': [36], 'classification': [37], 'dementia': [39], 'type,': [40], 'almost': [42], 'perfect': [43], '(0.9)': [45], 'on': [46], 'absence': [48], 'or': [49], 'presence': [50], 'Combining': [53], \"'possible'\": [55, 76], \"'probable'\": [57, 78], \"Alzheimer's\": [58], 'disease': [59], '(AD)': [60], 'categories': [61], 'produced': [62], 'substantial': [63], '(0.7).': [65], 'Comparison': [66], 'with': [67, 130], 'CERAD': [68], 'histopathological': [69], 'for': [71], 'AD': [72, 79, 113], 'showed': [73], 'that': [74, 107], 'combining': [75], 'resulted': [80], 'high': [83], 'sensitivity': [84], 'accuracy,': [86], 'but': [87], 'low': [89], 'specificity.': [90], 'To': [91], 'increase': [92], 'specificity,': [93], \"'probable\": [96], \"AD'\": [97], 'category': [98], 'should': [99], 'be': [100], 'used': [101], 'alone.': [102], 'An': [103], 'important': [104], 'finding': [105], 'was': [106, 120], 'diagnoses': [111, 125], 'made': [114], 'from': [115, 123], 'case': [117], 'notes': [118], 'alone': [119], 'not': [121], 'different': [122], 'obtained': [126], 'following': [127], 'active': [128], 'involvement': [129], 'participants.': [131]}"
        ],
        [
         "37",
         "https://openalex.org/W2095942641",
         "Disjunctivism and Discriminability",
         "{'Abstract': [0], 'Disjunctivists': [1], 'typically': [2], 'claim': [3], 'that': [4, 14, 20, 44, 48, 59, 91, 108], 'something': [5], 'is': [6, 11, 15, 37, 55, 88, 109, 113, 117], 'a': [7, 17, 39, 106], 'hallucination': [8], 'if': [9], 'it': [10, 36], 'an': [12], 'experience': [13, 31], 'not': [16, 38, 50, 73, 78, 96], 'perception,': [18], 'but': [19, 58, 94], 'the': [21, 30, 61, 86, 101, 104, 122], 'subject': [22], 'cannot': [23], 'tell,': [24], 'just': [25], 'in': [26, 81], 'virtue': [27], 'of': [28, 63, 103], 'having': [29], 'and': [32], '‘introspecting’': [33], 'it,': [34], 'whether': [35], 'perception.': [40, 69], 'This': [41, 115], 'chapter': [42, 105], 'argues': [43], 'there': [45], 'are': [46, 49, 72, 77], 'states': [47, 71], 'hallucinations,': [51, 74], 'as': [52], 'this': [53], 'term': [54], 'usually': [56], 'understood,': [57], 'meet': [60], 'condition': [62, 87], 'being': [64], 'thus': [65], 'subjectively': [66], 'indiscriminable': [67], 'from': [68], 'Such': [70], 'since': [75], 'they': [76], 'even': [79], 'sensory': [80], 'character.': [82], 'A': [83], 'modification': [84], 'to': [85, 120], 'finally': [89], 'introduced': [90], 'improves': [92], 'matters,': [93], 'does': [95], 'entirely': [97], 'avoid': [98], 'counter-examples.': [99, 123], 'In': [100], 'course': [102], 'position': [107, 116], 'termed': [110], '‘extreme': [111], 'disjunctivism’': [112], 'discussed.': [114], 'particularly': [118], 'unfitted': [119], 'accommodate': [121]}"
        ],
        [
         "38",
         "https://openalex.org/W1965702119",
         "A neuroleptic-like effect of ceronapril on latent inhibition",
         null
        ],
        [
         "39",
         "https://openalex.org/W1997786910",
         "The sigma ligand BMY-14802 as a potential antipsychotic",
         "{'Latent': [0], 'inhibition': [1], '(LI)': [2], 'is': [3, 15], 'a': [4, 10, 62, 71], 'measure': [5], 'of': [6, 42, 61, 83, 125, 127, 147, 160, 178, 191, 201, 204, 219, 227], 'retarded': [7], 'conditioning': [8, 140, 171, 189, 231], 'to': [9, 30, 38, 45, 215], 'previously-presented': [11], 'nonreinforced': [12], 'stimulus,': [13], 'that': [14, 248], 'impaired': [16], 'in': [17, 21, 34, 77, 87, 103, 117], 'schizophrenic': [18], 'patients': [19], 'and': [20, 44, 115, 138, 144, 150, 162, 169, 180, 187, 197, 208, 221, 229], 'rats': [22, 78], 'treated': [23], 'with': [24, 110], 'amphetamine.': [25], 'Neuroleptic': [26], 'drugs': [27], 'are': [28], 'known': [29], 'produce': [31], 'two': [32, 139, 170, 230], 'effects': [33, 58, 146, 159, 177], 'this': [35], 'test': [36], 'paradigm:': [37], 'antagonise': [39, 216], 'amphetamine-induced': [40, 202, 217], 'disruption': [41, 203, 218], 'LI,': [43], 'enhance': [46, 222], 'LI': [47, 60, 119, 165, 183, 205, 220, 223], 'when': [48, 224], 'administered': [49], 'on': [50, 59, 164, 182], 'their': [51], 'own.': [52], 'The': [53, 68], 'present': [54], 'experiments': [55, 69], 'tested': [56, 157], 'the': [57, 89, 105, 145, 158, 176, 246], 'potential': [63], 'antipsychotic,': [64], 'sigma': [65], 'ligand': [66], 'BMY-14802.': [67], 'used': [70], 'conditioned': [72], 'emotional': [73], 'response': [74], '(CER)': [75], 'procedure': [76], 'licking': [79, 128], 'for': [80, 245], 'water,': [81], 'consisting': [82, 190], 'three': [84], 'stages:': [85], 'preexposure,': [86], 'which': [88, 104, 118], 'to-be-conditioned': [90], 'stimulus': [91, 107], '(a': [92, 112], 'tone)': [93], 'was': [94, 108, 120, 213], 'repeatedly': [95], 'presented': [96], 'without': [97], 'being': [98], 'followed': [99], 'by': [100, 122, 206], 'reinforcement;': [101], 'conditioning,': [102], 'preexposed': [106], 'paired': [109], 'reinforcement': [111], 'foot': [113], 'shock);': [114], 'test,': [116], 'indexed': [121], \"animals'\": [123], 'degree': [124], 'suppression': [126], 'during': [129], 'tone': [130, 136], 'presentation.': [131], 'In': [132], 'Experiment': [133, 155, 173], '1,': [134], '20': [135], 'preexposures': [137, 168, 186, 228], 'trials': [141, 232], 'were': [142, 153, 233], 'given': [143], '5,': [148], '15,': [149], '30mg/kg': [151, 163, 181, 209], 'BMY-14802': [152, 212, 249], 'assessed.': [154], '2': [156], '15': [161, 179, 207], 'using': [166, 184], 'ten': [167], 'trials.': [172], '3': [174], 'investigated': [175, 199], '40': [185], 'extended': [188, 238], 'five': [192], 'tone-shock': [193], 'pairings.': [194], 'Experiments': [195], '4': [196], '5': [198], 'antagonism': [200], 'BMY-14802,': [210], 'respectively.': [211], 'found': [214], 'low': [225], 'numbers': [226], 'given,': [234], 'but': [235], 'not': [236], 'following': [237], 'conditioning.': [239], 'These': [240], 'results': [241], 'provide': [242], 'partial': [243], 'support': [244], 'suggestion': [247], 'may': [250], 'possess': [251], 'antipsychotic': [252], 'properties.': [253]}"
        ],
        [
         "40",
         "https://openalex.org/W2105956334",
         "Stable isotope values in modern bryozoan carbonate from New Zealand and implications for paleoenvironmental interpretation",
         "{'Abstract': [0], 'Bryozoan': [1], 'carbonate': [2, 66], 'contains': [3], 'useful': [4], 'geochemical': [5, 192], 'evidence': [6], 'of': [7, 53, 85, 128, 185], 'temperate': [8, 197], 'shelf': [9, 134], 'paleoenvironments.': [10], 'Stable': [11], 'isotope': [12, 102, 145, 159], 'values': [13, 29, 48, 146], 'were': [14], 'determined': [15], 'for': [16, 44, 76, 92], '103': [17], 'modern': [18], 'marine': [19, 56, 198], 'bryozoan': [20], 'skeletons': [21, 57], 'representing': [22], '30': [23], 'species': [24, 183], 'from': [25, 37, 51, 124, 131, 161, 169], 'New': [26, 59], 'Zealand.': [27], 'δ18O': [28, 111], 'range': [30, 36], 'from‐1.4': [31], 'to': [32, 39, 181], '2.8‰VPDB,': [33], 'while': [34], 'δ13C': [35, 113], '‐4.5': [38], '2.8‰': [40], 'VPDB': [41], '(values': [42], 'uncorrected': [43], 'mineralogical': [45, 93], 'variation).': [46], 'These': [47], 'are': [49, 173, 202], 'distinct': [50], 'those': [52], 'both': [54], 'tropical': [55], 'and': [58, 78, 82, 108, 112, 115, 119, 150], 'Zealand': [60], 'Tertiary': [61], 'fossils.': [62], 'Most': [63], 'bryozoans': [64, 87, 201], 'secrete': [65], 'in': [67, 143, 196], 'or': [68], 'near': [69], 'isotopic': [70], 'equilibrium': [71], 'with': [72, 117], 'sea': [73], 'water,': [74], 'except': [75], 'Celleporina': [77], 'Steginoporella.': [79], 'The': [80], 'complex': [81], 'variable': [83], 'mineralogies': [84], 'the': [86, 132, 140, 148], 'reported': [88], 'here': [89], 'make': [90], 'correction': [91], 'effects': [94], 'problematic.': [95], 'Nevertheless,': [96], 'mainly': [97], 'aragonitic': [98], 'forms': [99], 'display': [100], 'higher': [101], 'values,': [103, 114], 'as': [104, 191], 'anticipated.': [105], 'Both': [106], 'temperature': [107], 'salinity': [109], 'constrain': [110], 'vary': [116], 'latitude': [118], 'water': [120], 'depth.': [121], 'Ten': [122], 'samples': [123], 'a': [125, 136, 166, 170], 'single': [126, 167, 171], 'branch': [127], 'Cinctipora': [129], 'elegans': [130], 'Otago': [133], 'cover': [135], 'narrow': [137], 'range,': [138], 'although': [139], 'striking': [141], 'difference': [142], 'carbon': [144], 'between': [147], 'endozone': [149], 'exozone': [151], 'probably': [152], 'reflects': [153], 'different': [154, 163], 'mineralisation': [155], 'histories.': [156], 'Our': [157], 'stable': [158], 'results': [160], 'three': [162], 'laboratories': [164], 'on': [165], 'population': [168], 'location': [172], 'encouragingly': [174], 'consistent.': [175], 'Monomineralic': [176], 'bryozoans,': [177], 'when': [178], 'carefully': [179], 'chosen': [180], 'avoid': [182], 'suspected': [184], 'vital': [186], 'fractionation,': [187], 'have': [188], 'considerable': [189], 'potential': [190], 'paleoenvironmental': [193], 'indicators,': [194], 'particularly': [195], 'environments': [199], 'where': [200], 'dominant': [203], 'sediment': [204], 'producers.': [205]}"
        ],
        [
         "41",
         "https://openalex.org/W4312065168",
         "Beyond Playing 20 Questions with Nature: Integrative Experiment Design in the Social and Behavioral Sciences",
         "{'Abstract': [0], 'The': [1, 216], 'dominant': [2], 'paradigm': [3], 'of': [4, 18, 59, 79, 100, 117, 136, 145, 185, 196], 'experiments': [5, 148, 161, 165, 198, 226], 'in': [6, 91], 'the': [7, 22, 29, 57, 67, 77, 98, 113, 129, 133, 164, 193, 230, 263], 'social': [8, 137], 'and': [9, 56, 85, 115, 138, 162, 182, 222, 243, 253, 259], 'behavioral': [10, 139], 'sciences': [11], 'views': [12], 'an': [13, 172], 'experiment': [14, 52, 176], 'as': [15, 42], 'a': [16, 19, 54, 143, 201], 'test': [17, 223], 'theory,': [20], 'where': [21], 'theory': [23, 48], 'is': [24, 49, 62, 81, 251], 'assumed': [25, 63], 'to': [26, 34, 64, 167, 235], 'generalize': [27], 'beyond': [28], \"experiment's\": [30], 'specific': [31], 'conditions.': [32, 152], 'According': [33], 'this': [35, 72, 188, 249], 'view,': [36], 'which': [37, 178], 'Alan': [38], 'Newell': [39], 'once': [40], 'characterized': [41], '“playing': [43], 'twenty': [44], 'questions': [45], 'with': [46, 200, 225, 266], 'nature,”': [47], 'advanced': [50], 'one': [51], 'at': [53, 82, 86], 'time,': [55], 'integration': [58, 80, 101, 184], 'disparate': [60], 'findings': [61], 'happen': [65], 'via': [66], 'scientific': [68], 'publishing': [69], 'process.': [70], 'In': [71, 187], 'article,': [73], 'we': [74, 246], 'argue': [75], 'that': [76, 97, 110, 248], 'process': [78], 'best': [83], 'inefficient,': [84], 'worst': [87], 'it': [88], 'does': [89], 'not,': [90], 'fact,': [92], 'occur.': [93], 'We': [94, 169], 'further': [95], 'show': [96], 'challenge': [99], 'cannot': [102], 'be': [103, 236], 'adequately': [104], 'addressed': [105], 'by': [106, 122], 'recently': [107], 'proposed': [108], 'reforms': [109], 'focus': [111], 'on': [112, 213], 'reliability': [114], 'replicability': [116], 'individual': [118], 'findings,': [119], 'nor': [120], 'simply': [121], 'conducting': [123], 'more': [124], 'or': [125], 'larger': [126], 'experiments.': [127, 239], 'Rather,': [128], 'problem': [130], 'arises': [131], 'from': [132, 229], 'imprecise': [134], 'nature': [135], 'theories': [140, 209, 221], 'and,': [141], 'consequently,': [142], 'lack': [144], 'commensurability': [146, 181], 'across': [147, 238], 'conducted': [149], 'under': [150], 'different': [151], 'Therefore,': [153], 'researchers': [154, 190, 217], 'must': [155], 'fundamentally': [156], 'rethink': [157], 'how': [158, 163], 'they': [159], 'design': [160, 194, 231], 'relate': [166], 'theory.': [168], 'specifically': [170], 'describe': [171], 'alternative': [173], 'framework,': [174], 'integrative': [175], 'design,': [177], 'intrinsically': [179], 'promotes': [180], 'continuous': [183], 'knowledge.': [186], 'paradigm,': [189], 'explicitly': [191, 227], 'map': [192], 'space': [195], 'possible': [197], 'associated': [199], 'given': [202], 'research': [203], 'question,': [204], 'embracing': [205], 'many': [206], 'potentially': [207], 'relevant': [208], 'rather': [210], 'than': [211, 262], 'focusing': [212], 'just': [214], 'one.': [215], 'then': [218], 'iteratively': [219], 'generate': [220, 255], 'them': [224], 'sampled': [228], 'space,': [232], 'allowing': [233], 'results': [234], 'integrated': [237], 'Given': [240], 'recent': [241], 'methodological': [242], 'technological': [244], 'developments,': [245], 'conclude': [247], 'approach': [250], 'feasible': [252], 'would': [254], 'more-reliable,': [256], 'more-cumulative': [257], 'empirical': [258], 'theoretical': [260], 'knowledge': [261], 'current': [264], 'paradigm—and': [265], 'far': [267], 'greater': [268], 'efficiency.': [269]}"
        ],
        [
         "42",
         "https://openalex.org/W2305957822",
         "Are You Your Friends’ Friend? Poor Perception of Friendship Ties Limits the Ability to Promote Behavioral Change",
         "{'Persuasion': [0], 'is': [1], 'at': [2, 52], 'the': [3, 17, 26, 32, 39, 54, 106], 'core': [4], 'of': [5, 9, 16, 28, 41, 56, 105, 112], 'norm': [6], 'creation,': [7], 'emergence': [8], 'collective': [10, 128], 'action,': [11], 'and': [12, 60, 87], 'solutions': [13], 'to': [14, 34, 68, 76, 90, 96, 123], \"'tragedy\": [15], \"commons'\": [18], 'problems.': [19], 'In': [20], 'this': [21, 62, 98, 113], 'paper,': [22], 'we': [23, 45], 'show': [24], 'that': [25, 47, 61, 121], 'directionality': [27, 55], 'friendship': [29, 58, 108], 'ties': [30, 59], 'affect': [31], 'extent': [33], 'which': [35], 'individuals': [36], 'can': [37, 63], 'influence': [38, 126], 'behavior': [40], 'each': [42], 'other.': [43], 'Moreover,': [44], 'find': [46], 'people': [48], 'are': [49], 'typically': [50], 'poor': [51], 'perceiving': [53], 'their': [57, 66], 'significantly': [64], 'limit': [65], 'ability': [67], 'engage': [69], 'in': [70, 78], 'cooperative': [71], 'arrangements.': [72], 'This': [73], 'could': [74], 'lead': [75], 'failures': [77], 'establishing': [79], 'compatible': [80], 'norms,': [81], 'acting': [82], 'together,': [83], 'finding': [84], 'compromise': [85], 'solutions,': [86], 'persuading': [88], 'others': [89], 'act.': [91], 'We': [92], 'then': [93], 'suggest': [94], 'strategies': [95], 'overcome': [97], 'limitation': [99], 'by': [100], 'using': [101], 'two': [102], 'topological': [103], 'characteristics': [104], 'perceived': [107], 'network.': [109], 'The': [110], 'findings': [111], 'paper': [114], 'have': [115], 'significant': [116], 'consequences': [117], 'for': [118, 127], 'designing': [119], 'interventions': [120], 'seek': [122], 'harness': [124], 'social': [125], 'action.': [129]}"
        ],
        [
         "43",
         "https://openalex.org/W4309697951",
         "Beyond Playing 20 Questions with Nature: Integrative Experiment Design in the Social and Behavioral Sciences",
         "{'The': [0, 215], 'dominant': [1], 'paradigm': [2], 'of': [3, 17, 58, 78, 99, 116, 135, 144, 184, 195], 'experiments': [4, 147, 160, 164, 197, 225], 'in': [5, 90], 'the': [6, 21, 28, 56, 66, 76, 97, 112, 128, 132, 163, 192, 229, 262], 'social': [7, 136], 'and': [8, 55, 84, 114, 137, 161, 181, 221, 242, 252, 258], 'behavioral': [9, 138], 'sciences': [10], 'views': [11], 'an': [12, 171], 'experiment': [13, 51, 175], 'as': [14, 41], 'a': [15, 18, 53, 142, 200], 'test': [16, 222], 'theory,': [19], 'where': [20], 'theory': [22, 47], 'is': [23, 48, 61, 80, 250], 'assumed': [24, 62], 'to': [25, 33, 63, 166, 234], 'generalize': [26], 'beyond': [27], 'experiment’s': [29], 'specific': [30], 'conditions.': [31, 151], 'According': [32], 'this': [34, 71, 187, 248], 'view,': [35], 'which': [36, 177], 'Alan': [37], 'Newell': [38], 'once': [39], 'characterized': [40], '“playing': [42], 'twenty': [43], 'questions': [44], 'with': [45, 199, 224, 265], 'nature,”': [46], 'advanced': [49], 'one': [50], 'at': [52, 81, 85], 'time,': [54], 'integration': [57, 79, 100, 183], 'disparate': [59], 'findings': [60], 'happen': [64], 'via': [65], 'scientific': [67], 'publishing': [68], 'process.': [69], 'In': [70, 186], 'article,': [72], 'we': [73, 245], 'argue': [74], 'that': [75, 96, 109, 247], 'process': [77], 'best': [82], 'inefficient,': [83], 'worst': [86], 'it': [87], 'does': [88], 'not,': [89], 'fact,': [91], 'occur.': [92], 'We': [93, 168], 'further': [94], 'show': [95], 'challenge': [98], 'cannot': [101], 'be': [102, 235], 'adequately': [103], 'addressed': [104], 'by': [105, 121], 'recently': [106], 'proposed': [107], 'reforms': [108], 'focus': [110], 'on': [111, 212], 'reliability': [113], 'replicability': [115], 'individual': [117], 'findings,': [118], 'nor': [119], 'simply': [120], 'conducting': [122], 'more': [123], 'or': [124], 'larger': [125], 'experiments.': [126, 238], 'Rather,': [127], 'problem': [129], 'arises': [130], 'from': [131, 228], 'imprecise': [133], 'nature': [134], 'theories': [139, 208, 220], 'and,': [140], 'consequently,': [141], 'lack': [143], 'commensurability': [145, 180], 'across': [146, 237], 'conducted': [148], 'under': [149], 'different': [150], 'Therefore,': [152], 'researchers': [153, 189, 216], 'must': [154], 'fundamentally': [155], 'rethink': [156], 'how': [157, 162], 'they': [158], 'design': [159, 193, 230], 'relate': [165], 'theory.': [167], 'specifically': [169], 'describe': [170], 'alternative': [172], 'framework,': [173], 'integrative': [174], 'design,': [176], 'intrinsically': [178], 'promotes': [179], 'continuous': [182], 'knowledge.': [185], 'paradigm,': [188], 'explicitly': [190, 226], 'map': [191], 'space': [194], 'possible': [196], 'associated': [198], 'given': [201], 'research': [202], 'question,': [203], 'embracing': [204], 'many': [205], 'potentially': [206], 'relevant': [207], 'rather': [209], 'than': [210, 261], 'focusing': [211], 'just': [213], 'one.': [214], 'then': [217], 'iteratively': [218], 'generate': [219, 254], 'them': [223], 'sampled': [227], 'space,': [231], 'allowing': [232], 'results': [233], 'integrated': [236], 'Given': [239], 'recent': [240], 'methodological': [241], 'technological': [243], 'developments,': [244], 'conclude': [246], 'approach': [249], 'feasible': [251], 'would': [253], 'more-reliable,': [255], 'more-cumulative': [256], 'empirical': [257], 'theoretical': [259], 'knowledge': [260], 'current': [263], 'paradigm—and': [264], 'far': [266], 'greater': [267], 'efficiency.': [268]}"
        ],
        [
         "44",
         "https://openalex.org/W2188021097",
         "The City Browser: Utilizing Massive Call Data to Infer City Mobility Dynamics",
         "{'This': [0], 'paper': [1], 'presents': [2], 'the': [3, 11, 17, 38, 42, 45, 55, 58, 65, 80, 92, 104, 108, 112, 117, 125, 150, 158], 'City': [4], 'Browser,': [5], 'a': [6, 29, 48, 132, 136], 'tool': [7, 21], 'developed': [8, 161], 'to': [9, 31, 37, 83, 130, 162], 'analyze': [10], 'complexities': [12], 'underlying': [13], 'human': [14], 'mobility': [15, 85, 138, 166], 'at': [16], 'city': [18, 151, 165], 'scale.': [19], 'The': [20, 50, 68, 95, 121], 'uses': [22], 'data': [23, 59, 81], 'generated': [24], 'from': [25], 'mobile': [26], 'phones': [27], 'as': [28], 'proxy': [30], 'provide': [32, 131], 'several': [33], 'insights': [34], 'with': [35], 'regards': [36], 'commuting': [39], 'patterns': [40, 86], 'of': [41, 47, 54, 101, 127, 135, 152], 'population': [43], 'within': [44, 79], 'bounds': [46], 'city.': [49], 'three': [51], 'major': [52], 'components': [53], 'browser': [56, 159], 'are': [57, 88], 'warehouse,': [60], 'modules': [61, 69, 96], 'and': [62, 64, 70, 97, 116], 'algorithm,': [63], 'visualization': [66, 93, 122], 'interface.': [67, 94], 'algorithm': [71, 98], 'component': [72, 99], 'utilizes': [73], 'Call': [74], 'Detail': [75], 'Records': [76], '(CDRs)': [77], 'stored': [78], 'warehouse': [82], 'infer': [84], 'that': [87], 'then': [89], 'communicated': [90], 'through': [91], 'consists': [100], 'four': [102], 'modules:': [103], 'spatial-temporal': [105], 'decomposition': [106], 'module,': [107, 111, 115], 'home/work': [109], 'capturing': [110], 'community': [113], 'detection': [114], 'flow': [118], 'estimation': [119], 'module.': [120], 'interface': [123], 'manages': [124], 'output': [126], 'each': [128], 'module': [129], 'comprehensive': [133], 'view': [134], 'city’s': [137], 'dynamics': [139], 'over': [140], 'varying': [141], 'time': [142], 'scales.': [143], 'A': [144], 'case': [145], 'study': [146], 'is': [147], 'presented': [148], 'on': [149], 'Riyadh': [153], 'in': [154], 'Saudi': [155], 'Arabia,': [156], 'where': [157], 'was': [160], 'better': [163], 'understand': [164], 'patterns.': [167]}"
        ],
        [
         "45",
         "https://openalex.org/W2069352675",
         "The Effect of Second Order Zeeman Terms on Magnetic Susceptibilities: Errata",
         null
        ],
        [
         "46",
         "https://openalex.org/W3155596533",
         "Uncovering the socioeconomic facets of human mobility",
         "{'Given': [0], 'the': [1, 25, 50, 63, 81, 93, 141, 145, 159], 'rapid': [2], 'recent': [3], 'trend': [4], 'of': [5, 10, 21, 27, 35, 65, 76, 101, 120, 134, 138, 162, 166], 'urbanization,': [6], 'a': [7, 70, 89, 105], 'better': [8], 'understanding': [9], 'how': [11], 'urban': [12, 155], 'infrastructure': [13], 'mediates': [14], 'socioeconomic': [15, 53, 84], 'interactions': [16], 'and': [17, 55, 73, 79, 86, 95, 129, 131], 'economic': [18, 168], 'systems': [19], 'is': [20, 46], 'vital': [22], 'importance.': [23], 'While': [24], 'accessibility': [26], 'location-enabled': [28], 'devices': [29], 'as': [30, 32], 'well': [31], 'large-scale': [33], 'datasets': [34], 'human': [36], 'activities,': [37], 'has': [38], 'fueled': [39], 'significant': [40], 'advances': [41], 'in': [42, 61, 92, 136, 153], 'our': [43], 'understanding,': [44], 'there': [45], 'little': [47], 'agreement': [48], 'on': [49, 58], 'linkage': [51], 'between': [52, 83], 'status': [54, 85], 'its': [56], 'influence': [57], 'movement': [59], 'patterns,': [60], 'particular,': [62], 'role': [64], 'inequality.': [66], 'Here,': [67], 'we': [68], 'analyze': [69], 'heavily': [71], 'aggregated': [72], 'anonymized': [74], 'summary': [75], 'global': [77], 'mobility': [78, 87], 'investigate': [80], 'relationships': [82], 'across': [88], 'hundred': [90], 'cities': [91], 'US': [94], 'Brazil.': [96], 'We': [97], 'uncover': [98], 'two': [99], 'types': [100], 'relationships,': [102], 'finding': [103], 'either': [104], 'clear': [106], 'connection': [107], 'or': [108], 'little-to-no': [109], 'interdependencies.': [110], 'The': [111], 'former': [112], 'tend': [113], 'to': [114, 126], 'be': [115], 'characterized': [116], 'by': [117], 'low': [118], 'levels': [119], 'public': [121], 'transportation': [122], 'usage,': [123], 'inequitable': [124], 'access': [125], 'basic': [127], 'amenities': [128], 'services,': [130], 'segregated': [132], 'clusters': [133], 'communities': [135], 'terms': [137], 'income,': [139], 'with': [140], 'latter': [142], 'class': [143], 'showing': [144], 'opposite': [146], 'trends.': [147], 'Our': [148], 'findings': [149], 'provide': [150], 'useful': [151], 'lessons': [152], 'designing': [154], 'habitats': [156], 'that': [157], 'serve': [158], 'larger': [160], 'interests': [161], 'all': [163], 'inhabitants': [164], 'irrespective': [165], 'their': [167], 'status.': [169]}"
        ],
        [
         "47",
         "https://openalex.org/W3105381247",
         "The Fermi Paradox and the Aurora Effect: Exo-civilization Settlement, Expansion, and Steady States",
         "{'Abstract': [0], 'We': [1, 21, 52, 105, 183, 206, 222], 'model': [2, 133, 323], 'the': [3, 6, 18, 26, 35, 56, 66, 83, 87, 95, 108, 114, 118, 152, 162, 189, 192, 200, 211, 219, 236, 292, 308, 326, 344, 358, 365, 370], 'settlement': [4, 61, 89, 119, 150, 215], 'of': [5, 39, 43, 58, 90, 97, 110, 117, 131, 143, 157, 191, 199, 203, 213, 226, 241, 263, 270, 294, 313], 'Galaxy': [7, 67, 237], 'by': [8, 54, 151, 209, 332], 'space-faring': [9, 72, 153, 243], 'civilizations': [10, 73, 244], 'in': [11, 28, 197, 274, 285, 291, 316, 369], 'order': [12], 'to': [13, 17, 24, 47, 63, 126, 149, 187, 283], 'address': [14], 'issues': [15], 'related': [16], 'Fermi': [19], 'Paradox.': [20], 'are': [22, 250, 381], 'motivated': [23], 'explore': [25], 'problem': [27], 'a': [29, 100, 123, 139, 224, 239, 333, 337], 'way': [30], 'that': [31, 137, 161, 256, 277, 360], 'avoids': [32], 'assumptions': [33, 175], 'about': [34, 176], 'agency': [36], '(i.e.,': [37], 'questions': [38], 'intent': [40], 'and': [41, 103, 180, 357], 'motivation)': [42], 'any': [44], 'exo-civilization': [45], 'seeking': [46], 'settle': [48], 'other': [49], 'planetary': [50], 'systems.': [51], 'begin': [53], 'considering': [55, 210], 'speed': [57, 85], 'an': [59, 295, 329, 384], 'advancing': [60], 'front': [62, 84, 120], 'determine': [64], 'if': [65], 'can': [68, 165, 259, 304], 'become': [69], 'inhabited': [70, 296], 'with': [71, 99, 169, 307, 383], 'on': [74, 113, 186, 218, 354], 'timescales': [75], 'shorter': [76], 'than': [77], 'its': [78, 127], 'age.': [79], 'Our': [80], 'models': [81, 159], 'for': [82, 228, 311, 328], 'include': [86, 107], 'directed': [88], 'nearby': [91], 'settleable': [92, 248, 264], 'systems': [93, 172, 249, 272], 'through': [94], 'launching': [96], 'probes': [98], 'finite': [101, 214, 309], 'velocity': [102], 'range.': [104], 'also': [106, 135], 'effect': [109, 212], 'stellar': [111, 171], 'motions': [112], 'long-term': [115], 'behavior': [116], 'which': [121, 229, 286], 'adds': [122], 'diffusive': [124], 'component': [125], 'advance.': [128], 'As': [129], 'part': [130], 'our': [132, 302, 321, 373, 378], 'we': [134, 254, 299, 324], 'consider': [136, 188, 300], 'only': [138, 366], 'fraction,': [140], 'f': [141], ',': [142], 'planets': [144], 'will': [145], 'have': [146], 'conditions': [147], 'amenable': [148], 'civilization.': [154], 'The': [155], 'results': [156, 281, 303, 342], 'these': [158], 'demonstrate': [160], 'Milky': [163], 'Way': [164], 'be': [166, 305, 364], 'readily': [167], 'filled-in': [168], 'settled': [170, 204, 271], 'under': [173], 'conservative': [174], 'interstellar': [177, 242, 352], 'spacecraft': [178], 'velocities': [179], 'launch': [181], 'rates.': [182], 'then': [184], 'move': [185], 'question': [190], 'Galactic': [193], 'steady': [194, 220], 'state': [195], 'achieved': [196], 'terms': [198], 'fraction': [201], 'X': [202, 232], 'planets.': [205], 'do': [207], 'this': [208], 'civilization': [216, 335, 368], 'lifetimes': [217], 'states.': [221], 'find': [223, 255], 'range': [225], 'parameters': [227], '0': [230], '&lt;': [231, 233], '1,': [234], 'i.e.,': [235], 'supports': [238], 'population': [240], 'even': [245], 'though': [246], 'some': [247], 'uninhabited.': [251], 'In': [252], 'addition': [253], 'statistical': [257], 'fluctuations': [258], 'produce': [260], 'local': [261], 'overabundances': [262], 'worlds.': [265], 'These': [266, 341], 'generate': [267], 'long-lived': [268], 'clusters': [269], 'immersed': [273], 'large': [275], 'regions': [276], 'remain': [278, 289], 'unsettled.': [279], 'Both': [280], 'point': [282], 'ways': [284], 'Earth': [287, 330, 355], 'might': [288], 'unvisited': [290], 'midst': [293], 'galaxy.': [297, 388], 'Finally': [298], 'how': [301], 'combined': [306], 'horizon': [310], 'evidence': [312], 'previous': [314], 'settlements': [315], 'Earth’s': [317], 'geologic': [318], 'record.': [319], 'Using': [320], 'steady-state': [322, 387], 'constrain': [325], 'probabilities': [327], 'visit': [331], 'settling': [334], 'before': [336], 'given': [338], 'time': [339], 'horizon.': [340], 'break': [343], 'link': [345], 'between': [346], 'Hart’s': [347], 'famous': [348], '“Fact': [349], 'A”': [350], '(no': [351], 'visitors': [353], 'now)': [356], 'conclusion': [359], 'humans': [361], 'must,': [362], 'therefore,': [363], 'technological': [367], 'Galaxy.': [371], 'Explicitly,': [372], 'solutions': [374], 'admit': [375], 'situations': [376], 'where': [377], 'current': [379], 'circumstances': [380], 'consistent': [382], 'otherwise': [385], 'settled,': [386]}"
        ],
        [
         "48",
         "https://openalex.org/W2053829680",
         "Sustainability and the astrobiological perspective: Framing human futures in a planetary context",
         null
        ],
        [
         "49",
         "https://openalex.org/W2804797131",
         "The Anthropocene Generalized: Evolution of Exo-Civilizations and Their Planetary Feedback",
         "{'We': [0, 128, 180, 189, 247], 'present': [1, 129], 'a': [2, 13, 37, 43, 53, 139, 152, 220], 'framework': [3], 'for': [4, 48, 207, 222, 256, 263], 'studying': [5], 'generic': [6], 'behaviors': [7], 'possible': [8], 'in': [9, 23, 83, 99, 229, 242], 'the': [10, 20, 49, 57, 63, 66, 73, 77, 80, 96, 104, 108, 117, 123, 209, 227, 236, 251, 258, 264], 'interaction': [11, 137, 144, 161], 'between': [12], 'resource-harvesting': [14], 'technological': [15, 54], 'civilization': [16, 55, 81], '(an': [17], 'exo-civilization)': [18], 'and': [19, 35, 56, 84, 165, 262], 'planetary': [21, 110, 156, 167], 'environment': [22], 'which': [24, 45, 150, 208, 230], 'it': [25], 'evolves.': [26], 'Using': [27], 'methods': [28], 'from': [29, 76, 103], 'dynamical': [30], 'systems': [31], 'theory,': [32], 'we': [33, 114, 201], 'introduce': [34], 'analyze': [36], 'suite': [38], 'of': [39, 51, 65, 101, 125, 132, 149, 155, 177, 198, 219, 226, 232, 253, 266], 'simple': [40], 'equations': [41], 'modeling': [42], 'population': [44, 118, 192, 210], 'consumes': [46], 'resources': [47, 60, 147, 164], 'purpose': [50], 'running': [52], 'feedback': [58, 168], 'those': [59], 'drive': [61, 72], 'on': [62, 235], 'state': [64, 79], 'host': [67], 'planet.': [68], 'The': [69], 'feedbacks': [70, 102], 'can': [71, 239], 'planet': [74], 'away': [75], 'initial': [78], 'originated': [82], 'into': [85, 184], 'domains': [86], 'that': [87], 'are': [88, 217], 'detrimental': [89], 'to': [90], 'its': [91], 'sustainability.': [92], 'Our': [93, 215], 'models': [94, 131, 173], 'conceptualize': [95], 'problem': [97], 'primarily': [98], 'terms': [100], 'resource': [105], 'use': [106], 'onto': [107], 'coupled': [109, 237, 259], 'systems.': [111], 'In': [112], 'addition,': [113], 'also': [115, 190, 202], 'model': [116], 'growth': [119], 'advantages': [120], 'gained': [121], 'via': [122], 'harvesting': [124], 'these': [126], 'resources.': [127], 'three': [130, 172], 'increasing': [133], 'complexity:': [134], '(1)': [135], 'Civilization-planetary': [136, 143, 160], 'with': [138, 145, 162], 'single': [140], 'resource;': [141], '(2)': [142], 'two': [146, 163], 'each': [148], 'has': [151], 'different': [153], 'level': [154], 'system': [157, 261, 274], 'feedback;': [158], '(3)': [159], 'nonlinear': [166], '(i.e.,': [169], 'runaways).': [170], 'All': [171], 'show': [174], 'distinct': [175], 'classes': [176], 'exo-civilization': [178], 'trajectories.': [179], 'find': [181, 191], 'smooth': [182], 'entries': [183], 'long-term,': [185], '\"sustainable\"': [186], 'steady': [187], 'states.': [188], 'booms': [193], 'followed': [194], 'by': [195, 249], 'various': [196], 'levels': [197], '\"die-off.\"': [199], 'Finally,': [200], 'observe': [203], 'rapid': [204], '\"collapse\"': [205], 'trajectories': [206], 'approaches': [211], 'n': [212], '=': [213], '0.': [214], 'results': [216, 255], 'part': [218], 'program': [221], 'developing': [223], 'an': [224], '\"Astrobiology': [225], 'Anthropocene\"': [228], 'questions': [231], 'sustainability,': [233], 'centered': [234], 'Earth-system,': [238], 'be': [240], 'seen': [241], 'their': [243], 'proper': [244], 'astronomical/planetary': [245], 'context.': [246], 'conclude': [248], 'discussing': [250], 'implications': [252], 'our': [254], 'both': [257], 'Earth': [260], 'consideration': [265], 'exo-civilizations': [267], 'across': [268], 'cosmic': [269], 'history.': [270], 'Key': [271], 'Words:': [272], 'Anthropocene-Astrobiology-Civilization-Dynamical': [273], 'theory-Exoplanets-Population': [275], 'dynamics.': [276], 'Astrobiology': [277], '18,': [278], '503-518.': [279]}"
        ]
       ],
       "shape": {
        "columns": 3,
        "rows": 6145
       }
      },
      "text/html": [
       "<div>\n",
       "<style scoped>\n",
       "    .dataframe tbody tr th:only-of-type {\n",
       "        vertical-align: middle;\n",
       "    }\n",
       "\n",
       "    .dataframe tbody tr th {\n",
       "        vertical-align: top;\n",
       "    }\n",
       "\n",
       "    .dataframe thead th {\n",
       "        text-align: right;\n",
       "    }\n",
       "</style>\n",
       "<table border=\"1\" class=\"dataframe\">\n",
       "  <thead>\n",
       "    <tr style=\"text-align: right;\">\n",
       "      <th></th>\n",
       "      <th>id</th>\n",
       "      <th>title</th>\n",
       "      <th>abstract_inverted_index</th>\n",
       "    </tr>\n",
       "  </thead>\n",
       "  <tbody>\n",
       "    <tr>\n",
       "      <th>0</th>\n",
       "      <td>https://openalex.org/W3016360720</td>\n",
       "      <td>Understanding Inequalities in Ride-Hailing Ser...</td>\n",
       "      <td>{'Despite': [0], 'the': [1, 16, 42, 52, 81, 10...</td>\n",
       "    </tr>\n",
       "    <tr>\n",
       "      <th>1</th>\n",
       "      <td>https://openalex.org/W3098339481</td>\n",
       "      <td>The role of geography in the complex diffusion...</td>\n",
       "      <td>{'Abstract': [0], 'The': [1, 157], 'urban–rura...</td>\n",
       "    </tr>\n",
       "    <tr>\n",
       "      <th>2</th>\n",
       "      <td>https://openalex.org/W2606124137</td>\n",
       "      <td>Universal scaling laws in metro area election ...</td>\n",
       "      <td>{'We': [0], 'explain': [1], 'the': [2, 19, 25,...</td>\n",
       "    </tr>\n",
       "    <tr>\n",
       "      <th>3</th>\n",
       "      <td>https://openalex.org/W3103187161</td>\n",
       "      <td>Prediction of employment and unemployment rate...</td>\n",
       "      <td>{'By': [0], 'modeling': [1], 'macro-economical...</td>\n",
       "    </tr>\n",
       "    <tr>\n",
       "      <th>4</th>\n",
       "      <td>https://openalex.org/W2047940964</td>\n",
       "      <td>Finding community structure in very large netw...</td>\n",
       "      <td>{'The': [0, 147], 'discovery': [1], 'and': [2,...</td>\n",
       "    </tr>\n",
       "    <tr>\n",
       "      <th>...</th>\n",
       "      <td>...</td>\n",
       "      <td>...</td>\n",
       "      <td>...</td>\n",
       "    </tr>\n",
       "    <tr>\n",
       "      <th>7791</th>\n",
       "      <td>https://openalex.org/W3169297437</td>\n",
       "      <td>How Do Multiscale Interactions Affect Extreme ...</td>\n",
       "      <td>{'Abstract': [0], 'The': [1, 138], 'variabilit...</td>\n",
       "    </tr>\n",
       "    <tr>\n",
       "      <th>7792</th>\n",
       "      <td>https://openalex.org/W2981487041</td>\n",
       "      <td>Association of lipid accumulation product traj...</td>\n",
       "      <td>{'Lipid': [0], 'accumulation': [1, 58], 'produ...</td>\n",
       "    </tr>\n",
       "    <tr>\n",
       "      <th>7793</th>\n",
       "      <td>https://openalex.org/W2971109802</td>\n",
       "      <td>Distinct developmental trajectories of body ma...</td>\n",
       "      <td>{'Abstract': [0], 'Aims/Introduction': [1], 'T...</td>\n",
       "    </tr>\n",
       "    <tr>\n",
       "      <th>7794</th>\n",
       "      <td>https://openalex.org/W2786665112</td>\n",
       "      <td>Mapping the Post-communist Class Structure: Fi...</td>\n",
       "      <td>{'In': [0], 'this': [1], 'article,': [2], 'we'...</td>\n",
       "    </tr>\n",
       "    <tr>\n",
       "      <th>7795</th>\n",
       "      <td>https://openalex.org/W3004058024</td>\n",
       "      <td>Which is your favorite music genre? A validity...</td>\n",
       "      <td>{'In': [0], 'this': [1], 'study,': [2], 'we': ...</td>\n",
       "    </tr>\n",
       "  </tbody>\n",
       "</table>\n",
       "<p>6145 rows × 3 columns</p>\n",
       "</div>"
      ],
      "text/plain": [
       "                                    id  \\\n",
       "0     https://openalex.org/W3016360720   \n",
       "1     https://openalex.org/W3098339481   \n",
       "2     https://openalex.org/W2606124137   \n",
       "3     https://openalex.org/W3103187161   \n",
       "4     https://openalex.org/W2047940964   \n",
       "...                                ...   \n",
       "7791  https://openalex.org/W3169297437   \n",
       "7792  https://openalex.org/W2981487041   \n",
       "7793  https://openalex.org/W2971109802   \n",
       "7794  https://openalex.org/W2786665112   \n",
       "7795  https://openalex.org/W3004058024   \n",
       "\n",
       "                                                  title  \\\n",
       "0     Understanding Inequalities in Ride-Hailing Ser...   \n",
       "1     The role of geography in the complex diffusion...   \n",
       "2     Universal scaling laws in metro area election ...   \n",
       "3     Prediction of employment and unemployment rate...   \n",
       "4     Finding community structure in very large netw...   \n",
       "...                                                 ...   \n",
       "7791  How Do Multiscale Interactions Affect Extreme ...   \n",
       "7792  Association of lipid accumulation product traj...   \n",
       "7793  Distinct developmental trajectories of body ma...   \n",
       "7794  Mapping the Post-communist Class Structure: Fi...   \n",
       "7795  Which is your favorite music genre? A validity...   \n",
       "\n",
       "                                abstract_inverted_index  \n",
       "0     {'Despite': [0], 'the': [1, 16, 42, 52, 81, 10...  \n",
       "1     {'Abstract': [0], 'The': [1, 157], 'urban–rura...  \n",
       "2     {'We': [0], 'explain': [1], 'the': [2, 19, 25,...  \n",
       "3     {'By': [0], 'modeling': [1], 'macro-economical...  \n",
       "4     {'The': [0, 147], 'discovery': [1], 'and': [2,...  \n",
       "...                                                 ...  \n",
       "7791  {'Abstract': [0], 'The': [1, 138], 'variabilit...  \n",
       "7792  {'Lipid': [0], 'accumulation': [1, 58], 'produ...  \n",
       "7793  {'Abstract': [0], 'Aims/Introduction': [1], 'T...  \n",
       "7794  {'In': [0], 'this': [1], 'article,': [2], 'we'...  \n",
       "7795  {'In': [0], 'this': [1], 'study,': [2], 'we': ...  \n",
       "\n",
       "[6145 rows x 3 columns]"
      ]
     },
     "execution_count": 2,
     "metadata": {},
     "output_type": "execute_result"
    }
   ],
   "source": [
    "df_abstracts = pd.read_csv(\"IC2S2_abstracts.csv\").drop_duplicates()\n",
    "df_abstracts"
   ]
  },
  {
   "cell_type": "code",
   "execution_count": 3,
   "metadata": {},
   "outputs": [
    {
     "data": {
      "application/vnd.microsoft.datawrangler.viewer.v0+json": {
       "columns": [
        {
         "name": "index",
         "rawType": "int64",
         "type": "integer"
        },
        {
         "name": "id",
         "rawType": "object",
         "type": "string"
        },
        {
         "name": "publication_year",
         "rawType": "int64",
         "type": "integer"
        },
        {
         "name": "cited_by_count",
         "rawType": "int64",
         "type": "integer"
        },
        {
         "name": "author_ids",
         "rawType": "object",
         "type": "string"
        }
       ],
       "conversionMethod": "pd.DataFrame",
       "ref": "79039304-acbf-4721-9d33-81d2b131bbcb",
       "rows": [
        [
         "0",
         "https://openalex.org/W3016360720",
         "2020",
         "37",
         "['https://openalex.org/A5072156055', 'https://openalex.org/A5054630728']"
        ],
        [
         "1",
         "https://openalex.org/W3098339481",
         "2020",
         "35",
         "['https://openalex.org/A5005839111', 'https://openalex.org/A5072156055', 'https://openalex.org/A5091533231', 'https://openalex.org/A5044033087', 'https://openalex.org/A5111672074']"
        ],
        [
         "2",
         "https://openalex.org/W2606124137",
         "2018",
         "22",
         "['https://openalex.org/A5072156055', 'https://openalex.org/A5021830443', 'https://openalex.org/A5019808661']"
        ],
        [
         "3",
         "https://openalex.org/W3103187161",
         "2017",
         "17",
         "['https://openalex.org/A5072156055', 'https://openalex.org/A5004325765', 'https://openalex.org/A5019808661']"
        ],
        [
         "4",
         "https://openalex.org/W2047940964",
         "2004",
         "6955",
         "['https://openalex.org/A5014647140', 'https://openalex.org/A5067142016', 'https://openalex.org/A5008033989']"
        ],
        [
         "5",
         "https://openalex.org/W2061099285",
         "2010",
         "927",
         "['https://openalex.org/A5069948947', 'https://openalex.org/A5078253058', 'https://openalex.org/A5014647140']"
        ],
        [
         "6",
         "https://openalex.org/W2095072199",
         "2005",
         "795",
         "['https://openalex.org/A5014647140']"
        ],
        [
         "7",
         "https://openalex.org/W2102017123",
         "2015",
         "514",
         "['https://openalex.org/A5014647140', 'https://openalex.org/A5027903946', 'https://openalex.org/A5027079032']"
        ],
        [
         "8",
         "https://openalex.org/W2585057539",
         "2017",
         "228",
         "['https://openalex.org/A5014647140', 'https://openalex.org/A5027079032', 'https://openalex.org/A5056242621']"
        ],
        [
         "9",
         "https://openalex.org/W2074562205",
         "2014",
         "204",
         "['https://openalex.org/A5110544572', 'https://openalex.org/A5014647140']"
        ],
        [
         "10",
         "https://openalex.org/W3189072387",
         "2021",
         "130",
         "['https://openalex.org/A5011168888', 'https://openalex.org/A5030987696', 'https://openalex.org/A5014647140', 'https://openalex.org/A5080732494', 'https://openalex.org/A5054707908', 'https://openalex.org/A5000679279']"
        ],
        [
         "11",
         "https://openalex.org/W2155058903",
         "2008",
         "148",
         "['https://openalex.org/A5014647140', 'https://openalex.org/A5008033989', 'https://openalex.org/A5067142016']"
        ],
        [
         "12",
         "https://openalex.org/W2565597050",
         "2017",
         "119",
         "['https://openalex.org/A5048132210', 'https://openalex.org/A5054519023', 'https://openalex.org/A5014647140', 'https://openalex.org/A5027079032']"
        ],
        [
         "13",
         "https://openalex.org/W4292475382",
         "2022",
         "37",
         "['https://openalex.org/A5101803962', 'https://openalex.org/A5055446394', 'https://openalex.org/A5101965096', 'https://openalex.org/A5036936081', 'https://openalex.org/A5014647140']"
        ],
        [
         "14",
         "https://openalex.org/W3021340442",
         "2005",
         "146",
         "['https://openalex.org/A5014647140', 'https://openalex.org/A5008033989']"
        ],
        [
         "15",
         "https://openalex.org/W3121790145",
         "2013",
         "85",
         "['https://openalex.org/A5014647140', 'https://openalex.org/A5014032439']"
        ],
        [
         "16",
         "https://openalex.org/W2964083839",
         "2016",
         "76",
         "['https://openalex.org/A5048132210', 'https://openalex.org/A5027079032', 'https://openalex.org/A5014647140']"
        ],
        [
         "17",
         "https://openalex.org/W3100467400",
         "2013",
         "47",
         "['https://openalex.org/A5078651528', 'https://openalex.org/A5014647140']"
        ],
        [
         "18",
         "https://openalex.org/W2803567385",
         "2018",
         "39",
         "['https://openalex.org/A5054519023', 'https://openalex.org/A5054164320', 'https://openalex.org/A5048132210', 'https://openalex.org/A5014647140']"
        ],
        [
         "19",
         "https://openalex.org/W2130167023",
         "2014",
         "41",
         "['https://openalex.org/A5037488679', 'https://openalex.org/A5014647140']"
        ],
        [
         "20",
         "https://openalex.org/W2160075231",
         "2009",
         "42",
         "['https://openalex.org/A5014647140', 'https://openalex.org/A5110118358']"
        ],
        [
         "21",
         "https://openalex.org/W3107549912",
         "2020",
         "20",
         "['https://openalex.org/A5011168888', 'https://openalex.org/A5030987696', 'https://openalex.org/A5014647140', 'https://openalex.org/A5054707908', 'https://openalex.org/A5080732494', 'https://openalex.org/A5000679279']"
        ],
        [
         "22",
         "https://openalex.org/W3200179082",
         "2021",
         "19",
         "['https://openalex.org/A5101676626', 'https://openalex.org/A5014647140', 'https://openalex.org/A5027079032']"
        ],
        [
         "23",
         "https://openalex.org/W4309672241",
         "2022",
         "11",
         "['https://openalex.org/A5011588754', 'https://openalex.org/A5048181040', 'https://openalex.org/A5054519023', 'https://openalex.org/A5055446394', 'https://openalex.org/A5027079032', 'https://openalex.org/A5014647140']"
        ],
        [
         "24",
         "https://openalex.org/W2158526526",
         "2009",
         "27",
         "['https://openalex.org/A5014647140', 'https://openalex.org/A5011256345']"
        ],
        [
         "25",
         "https://openalex.org/W3102637508",
         "2008",
         "22",
         "['https://openalex.org/A5014647140', 'https://openalex.org/A5101810876', 'https://openalex.org/A5110702582']"
        ],
        [
         "26",
         "https://openalex.org/W1729157025",
         "2011",
         "16",
         "['https://openalex.org/A5082953212', 'https://openalex.org/A5045620226', 'https://openalex.org/A5014647140']"
        ],
        [
         "27",
         "https://openalex.org/W3105389172",
         "2013",
         "14",
         "['https://openalex.org/A5037488679', 'https://openalex.org/A5014647140']"
        ],
        [
         "28",
         "https://openalex.org/W2004939650",
         "2010",
         "13",
         "['https://openalex.org/A5014647140', 'https://openalex.org/A5000038347', 'https://openalex.org/A5032779977']"
        ],
        [
         "29",
         "https://openalex.org/W3047315229",
         "2021",
         "35",
         "['https://openalex.org/A5084930117', 'https://openalex.org/A5012787401', 'https://openalex.org/A5055805371', 'https://openalex.org/A5047404909', 'https://openalex.org/A5078987306', 'https://openalex.org/A5002034958', 'https://openalex.org/A5040821463']"
        ],
        [
         "30",
         "https://openalex.org/W2104824734",
         "2007",
         "22",
         "['https://openalex.org/A5014455711', 'https://openalex.org/A5047404909', 'https://openalex.org/A5037145133']"
        ],
        [
         "31",
         "https://openalex.org/W2047850274",
         "1983",
         "202",
         "['https://openalex.org/A5039227814', 'https://openalex.org/A5109996323', 'https://openalex.org/A5030330229', 'https://openalex.org/A5085974313']"
        ],
        [
         "32",
         "https://openalex.org/W2127724524",
         "2008",
         "182",
         "['https://openalex.org/A5033228279', 'https://openalex.org/A5027732920', 'https://openalex.org/A5113666096', 'https://openalex.org/A5066553010', 'https://openalex.org/A5082887117', 'https://openalex.org/A5006111595', 'https://openalex.org/A5077519787', 'https://openalex.org/A5030330229']"
        ],
        [
         "33",
         "https://openalex.org/W2114912188",
         "1978",
         "160",
         "['https://openalex.org/A5030330229', 'https://openalex.org/A5054670072', 'https://openalex.org/A5086663147']"
        ],
        [
         "34",
         "https://openalex.org/W2137586668",
         "2009",
         "116",
         "['https://openalex.org/A5090704136', 'https://openalex.org/A5030330229', 'https://openalex.org/A5113699933', 'https://openalex.org/A5111920393']"
        ],
        [
         "35",
         "https://openalex.org/W1966684598",
         "1990",
         "71",
         "['https://openalex.org/A5030330229', 'https://openalex.org/A5004372354', 'https://openalex.org/A5015177696', 'https://openalex.org/A5053902878']"
        ],
        [
         "36",
         "https://openalex.org/W2060941195",
         "2000",
         "53",
         "['https://openalex.org/A5053039076', 'https://openalex.org/A5071183914', 'https://openalex.org/A5108501586', 'https://openalex.org/A5016026205', 'https://openalex.org/A5014406538', 'https://openalex.org/A5030330229']"
        ],
        [
         "37",
         "https://openalex.org/W2095942641",
         "2008",
         "25",
         "['https://openalex.org/A5030330229']"
        ],
        [
         "38",
         "https://openalex.org/W1965702119",
         "1992",
         "12",
         "['https://openalex.org/A5110926636', 'https://openalex.org/A5030330229', 'https://openalex.org/A5112936208', 'https://openalex.org/A5113578168']"
        ],
        [
         "39",
         "https://openalex.org/W1997786910",
         "1995",
         "12",
         "['https://openalex.org/A5110926636', 'https://openalex.org/A5109906660', 'https://openalex.org/A5112936208', 'https://openalex.org/A5030330229', 'https://openalex.org/A5113578168']"
        ],
        [
         "40",
         "https://openalex.org/W2105956334",
         "2004",
         "11",
         "['https://openalex.org/A5048456963', 'https://openalex.org/A5001753624', 'https://openalex.org/A5060611338', 'https://openalex.org/A5057025370']"
        ],
        [
         "41",
         "https://openalex.org/W4312065168",
         "2022",
         "61",
         "['https://openalex.org/A5064296964', 'https://openalex.org/A5077079119', 'https://openalex.org/A5069454833', 'https://openalex.org/A5069999998', 'https://openalex.org/A5103706325', 'https://openalex.org/A5000679279']"
        ],
        [
         "42",
         "https://openalex.org/W2305957822",
         "2016",
         "62",
         "['https://openalex.org/A5064296964', 'https://openalex.org/A5043639182', 'https://openalex.org/A5111367077', 'https://openalex.org/A5075956753']"
        ],
        [
         "43",
         "https://openalex.org/W4309697951",
         "2022",
         "11",
         "['https://openalex.org/A5064296964', 'https://openalex.org/A5077079119', 'https://openalex.org/A5069454833', 'https://openalex.org/A5069999998', 'https://openalex.org/A5076633756', 'https://openalex.org/A5000679279']"
        ],
        [
         "44",
         "https://openalex.org/W2188021097",
         "2014",
         "16",
         "['https://openalex.org/A5046561315', 'https://openalex.org/A5064296964', 'https://openalex.org/A5033977409', 'https://openalex.org/A5038699799', 'https://openalex.org/A5073189960', 'https://openalex.org/A5103326255']"
        ],
        [
         "45",
         "https://openalex.org/W2069352675",
         "1929",
         "61",
         "['https://openalex.org/A5039188573', 'https://openalex.org/A5011035455']"
        ],
        [
         "46",
         "https://openalex.org/W3155596533",
         "2021",
         "61",
         "['https://openalex.org/A5068497573', 'https://openalex.org/A5002607503', 'https://openalex.org/A5008888392', 'https://openalex.org/A5054960661', 'https://openalex.org/A5011035455', 'https://openalex.org/A5105508446', 'https://openalex.org/A5081476701', 'https://openalex.org/A5033081182', 'https://openalex.org/A5052965447']"
        ],
        [
         "47",
         "https://openalex.org/W3105381247",
         "2019",
         "31",
         "['https://openalex.org/A5053273786', 'https://openalex.org/A5011035455', 'https://openalex.org/A5065531884', 'https://openalex.org/A5013827698']"
        ],
        [
         "48",
         "https://openalex.org/W2053829680",
         "2014",
         "22",
         "['https://openalex.org/A5011035455', 'https://openalex.org/A5047381329']"
        ],
        [
         "49",
         "https://openalex.org/W2804797131",
         "2018",
         "21",
         "['https://openalex.org/A5011035455', 'https://openalex.org/A5053273786', 'https://openalex.org/A5027673966', 'https://openalex.org/A5022224624']"
        ]
       ],
       "shape": {
        "columns": 4,
        "rows": 6145
       }
      },
      "text/html": [
       "<div>\n",
       "<style scoped>\n",
       "    .dataframe tbody tr th:only-of-type {\n",
       "        vertical-align: middle;\n",
       "    }\n",
       "\n",
       "    .dataframe tbody tr th {\n",
       "        vertical-align: top;\n",
       "    }\n",
       "\n",
       "    .dataframe thead th {\n",
       "        text-align: right;\n",
       "    }\n",
       "</style>\n",
       "<table border=\"1\" class=\"dataframe\">\n",
       "  <thead>\n",
       "    <tr style=\"text-align: right;\">\n",
       "      <th></th>\n",
       "      <th>id</th>\n",
       "      <th>publication_year</th>\n",
       "      <th>cited_by_count</th>\n",
       "      <th>author_ids</th>\n",
       "    </tr>\n",
       "  </thead>\n",
       "  <tbody>\n",
       "    <tr>\n",
       "      <th>0</th>\n",
       "      <td>https://openalex.org/W3016360720</td>\n",
       "      <td>2020</td>\n",
       "      <td>37</td>\n",
       "      <td>['https://openalex.org/A5072156055', 'https://...</td>\n",
       "    </tr>\n",
       "    <tr>\n",
       "      <th>1</th>\n",
       "      <td>https://openalex.org/W3098339481</td>\n",
       "      <td>2020</td>\n",
       "      <td>35</td>\n",
       "      <td>['https://openalex.org/A5005839111', 'https://...</td>\n",
       "    </tr>\n",
       "    <tr>\n",
       "      <th>2</th>\n",
       "      <td>https://openalex.org/W2606124137</td>\n",
       "      <td>2018</td>\n",
       "      <td>22</td>\n",
       "      <td>['https://openalex.org/A5072156055', 'https://...</td>\n",
       "    </tr>\n",
       "    <tr>\n",
       "      <th>3</th>\n",
       "      <td>https://openalex.org/W3103187161</td>\n",
       "      <td>2017</td>\n",
       "      <td>17</td>\n",
       "      <td>['https://openalex.org/A5072156055', 'https://...</td>\n",
       "    </tr>\n",
       "    <tr>\n",
       "      <th>4</th>\n",
       "      <td>https://openalex.org/W2047940964</td>\n",
       "      <td>2004</td>\n",
       "      <td>6955</td>\n",
       "      <td>['https://openalex.org/A5014647140', 'https://...</td>\n",
       "    </tr>\n",
       "    <tr>\n",
       "      <th>...</th>\n",
       "      <td>...</td>\n",
       "      <td>...</td>\n",
       "      <td>...</td>\n",
       "      <td>...</td>\n",
       "    </tr>\n",
       "    <tr>\n",
       "      <th>7791</th>\n",
       "      <td>https://openalex.org/W3169297437</td>\n",
       "      <td>2021</td>\n",
       "      <td>27</td>\n",
       "      <td>['https://openalex.org/A5103104166', 'https://...</td>\n",
       "    </tr>\n",
       "    <tr>\n",
       "      <th>7792</th>\n",
       "      <td>https://openalex.org/W2981487041</td>\n",
       "      <td>2019</td>\n",
       "      <td>20</td>\n",
       "      <td>['https://openalex.org/A5112551201', 'https://...</td>\n",
       "    </tr>\n",
       "    <tr>\n",
       "      <th>7793</th>\n",
       "      <td>https://openalex.org/W2971109802</td>\n",
       "      <td>2019</td>\n",
       "      <td>11</td>\n",
       "      <td>['https://openalex.org/A5101919727', 'https://...</td>\n",
       "    </tr>\n",
       "    <tr>\n",
       "      <th>7794</th>\n",
       "      <td>https://openalex.org/W2786665112</td>\n",
       "      <td>2017</td>\n",
       "      <td>22</td>\n",
       "      <td>['https://openalex.org/A5066939601', 'https://...</td>\n",
       "    </tr>\n",
       "    <tr>\n",
       "      <th>7795</th>\n",
       "      <td>https://openalex.org/W3004058024</td>\n",
       "      <td>2022</td>\n",
       "      <td>11</td>\n",
       "      <td>['https://openalex.org/A5015694492', 'https://...</td>\n",
       "    </tr>\n",
       "  </tbody>\n",
       "</table>\n",
       "<p>6145 rows × 4 columns</p>\n",
       "</div>"
      ],
      "text/plain": [
       "                                    id  publication_year  cited_by_count  \\\n",
       "0     https://openalex.org/W3016360720              2020              37   \n",
       "1     https://openalex.org/W3098339481              2020              35   \n",
       "2     https://openalex.org/W2606124137              2018              22   \n",
       "3     https://openalex.org/W3103187161              2017              17   \n",
       "4     https://openalex.org/W2047940964              2004            6955   \n",
       "...                                ...               ...             ...   \n",
       "7791  https://openalex.org/W3169297437              2021              27   \n",
       "7792  https://openalex.org/W2981487041              2019              20   \n",
       "7793  https://openalex.org/W2971109802              2019              11   \n",
       "7794  https://openalex.org/W2786665112              2017              22   \n",
       "7795  https://openalex.org/W3004058024              2022              11   \n",
       "\n",
       "                                             author_ids  \n",
       "0     ['https://openalex.org/A5072156055', 'https://...  \n",
       "1     ['https://openalex.org/A5005839111', 'https://...  \n",
       "2     ['https://openalex.org/A5072156055', 'https://...  \n",
       "3     ['https://openalex.org/A5072156055', 'https://...  \n",
       "4     ['https://openalex.org/A5014647140', 'https://...  \n",
       "...                                                 ...  \n",
       "7791  ['https://openalex.org/A5103104166', 'https://...  \n",
       "7792  ['https://openalex.org/A5112551201', 'https://...  \n",
       "7793  ['https://openalex.org/A5101919727', 'https://...  \n",
       "7794  ['https://openalex.org/A5066939601', 'https://...  \n",
       "7795  ['https://openalex.org/A5015694492', 'https://...  \n",
       "\n",
       "[6145 rows x 4 columns]"
      ]
     },
     "execution_count": 3,
     "metadata": {},
     "output_type": "execute_result"
    }
   ],
   "source": [
    "df_papers = pd.read_csv(\"IC2S2_papers.csv\").drop_duplicates()\n",
    "df_papers"
   ]
  },
  {
   "cell_type": "markdown",
   "metadata": {},
   "source": [
    "# Part 4"
   ]
  },
  {
   "cell_type": "code",
   "execution_count": null,
   "metadata": {},
   "outputs": [
    {
     "name": "stdout",
     "output_type": "stream",
     "text": [
      "Building authors lookup from Final_table ...\n"
     ]
    },
    {
     "name": "stderr",
     "output_type": "stream",
     "text": [
      "Querying authors: 100%|██████████| 1594/1594 [16:22<00:00,  1.62it/s]\n"
     ]
    },
    {
     "name": "stdout",
     "output_type": "stream",
     "text": [
      "Network construction complete and saved as 'computational_social_scientists_network.json'.\n"
     ]
    }
   ],
   "source": [
    "# authors_dict = {}  \n",
    "# unique_authors = Final_table['author'].unique()\n",
    "\n",
    "# print(\"Building authors lookup from Final_table ...\")\n",
    "# for name in tqdm(unique_authors, desc=\"Querying authors\"):\n",
    "#     search_url = \"https://api.openalex.org/authors\"\n",
    "#     search_params = {'search': name}\n",
    "#     try:\n",
    "#         response = requests.get(search_url, params=search_params, timeout=10)\n",
    "#         data = response.json()\n",
    "#     except Exception as e:\n",
    "#         print(f\"Error retrieving info for {name}: {e}\")\n",
    "#         continue\n",
    "#     if data.get('results'):\n",
    "        \n",
    "#         author_data = data['results'][0]\n",
    "#         author_id = author_data['id']\n",
    "        \n",
    "#         display_name = author_data.get('display_name', name)\n",
    "        \n",
    "#         country = author_data.get('country', None)\n",
    "#         authors_dict[author_id] = {'display_name': display_name, 'country': country}\n",
    "    \n",
    "#     time.sleep(0.2)\n",
    "\n",
    "\n",
    "# edge_weights = defaultdict(int)\n",
    "# for _, row in df_papers.iterrows():\n",
    "#     authors = row['author_ids']\n",
    "#     for a, b in combinations(sorted(authors), 2):\n",
    "#         edge_weights[(a, b)] += 1\n",
    "\n",
    "# weighted_edgelist = [(a, b, weight) for (a, b), weight in edge_weights.items()]\n",
    "\n",
    "# G = nx.Graph()\n",
    "# G.add_weighted_edges_from(weighted_edgelist)\n",
    "\n",
    "# author_citations = defaultdict(int)\n",
    "# author_first_pub = {}\n",
    "\n",
    "# for _, row in df_papers.iterrows():\n",
    "#     pub_year = row['publication_year']\n",
    "#     citations = row['cited_by_count']\n",
    "#     for author in row['author_ids']:\n",
    "#         author_citations[author] += citations\n",
    "#         if author not in author_first_pub or pub_year < author_first_pub[author]:\n",
    "#             author_first_pub[author] = pub_year\n",
    "\n",
    "# for node in G.nodes():\n",
    "    \n",
    "#     if node in authors_dict:\n",
    "#         display_name = authors_dict[node]['display_name']\n",
    "#         country = authors_dict[node]['country']\n",
    "#     else:\n",
    "#         display_name = None\n",
    "#         country = None\n",
    "\n",
    "#     citations = author_citations.get(node, 0)\n",
    "#     first_pub_year = author_first_pub.get(node, None)\n",
    "\n",
    "#     nx.set_node_attributes(G, {node: {\n",
    "#         'display_name': display_name,\n",
    "#         'country': country,\n",
    "#         'citation_count': citations,\n",
    "#         'first_publication_year': first_pub_year\n",
    "#     }})\n",
    "\n",
    "\n",
    "# data = json_graph.node_link_data(G)\n",
    "# with open(\"computational_social_scientists_network.json\", \"w\") as f:\n",
    "#     json.dump(data, f)\n",
    "\n",
    "# print(\"Network construction complete and saved as 'computational_social_scientists_network.json'.\")\n"
   ]
  }
 ],
 "metadata": {
  "kernelspec": {
   "display_name": "base",
   "language": "python",
   "name": "python3"
  },
  "language_info": {
   "codemirror_mode": {
    "name": "ipython",
    "version": 3
   },
   "file_extension": ".py",
   "mimetype": "text/x-python",
   "name": "python",
   "nbconvert_exporter": "python",
   "pygments_lexer": "ipython3",
   "version": "3.9.13"
  }
 },
 "nbformat": 4,
 "nbformat_minor": 2
}
